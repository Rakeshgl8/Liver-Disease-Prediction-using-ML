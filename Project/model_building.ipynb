{
 "cells": [
  {
   "cell_type": "code",
   "execution_count": 1,
   "id": "ea6d999a-c6e4-42bd-99f7-7392d1aedd6c",
   "metadata": {},
   "outputs": [],
   "source": [
    "import pandas as pd\n",
    "import numpy as np\n",
    "import seaborn as sns\n",
    "import matplotlib.pyplot as plt\n",
    "from sklearn.model_selection import train_test_split\n",
    "from sklearn.impute import SimpleImputer\n",
    "from sklearn.preprocessing import LabelEncoder\n",
    "from sklearn.svm import SVC\n",
    "from sklearn.linear_model import LogisticRegression\n",
    "from sklearn.ensemble import RandomForestClassifier\n",
    "from sklearn.metrics import (\n",
    "    accuracy_score,\n",
    "    precision_score,\n",
    "    recall_score,\n",
    "    f1_score,\n",
    "    roc_auc_score,\n",
    "    classification_report,    \n",
    "    confusion_matrix\n",
    ")\n"
   ]
  },
  {
   "cell_type": "markdown",
   "id": "21fd7e17-a482-4607-865d-63699c16ca94",
   "metadata": {},
   "source": [
    "## Data Preprocessing"
   ]
  },
  {
   "cell_type": "code",
   "execution_count": 2,
   "id": "8b354bb4-b14d-459a-88e4-607000630b7b",
   "metadata": {},
   "outputs": [],
   "source": [
    "# Set up input data\n",
    "AAP = 202\n",
    "SGPT = 22\n",
    "TB = 0.9\n",
    "DB = 0.3\n",
    "SGOT = 19\n",
    "AGR = 1.2\n",
    "ALBA = 4.1\n",
    "AGE=65\n",
    "GEN=1\n",
    "TP=6.8\n",
    "\n",
    "\n",
    "input = np.array([AGE,GEN,TB,DB,AAP,SGPT,SGOT,TP,ALBA,AGR])\n",
    "columns = ['AGE','GEN','TB', 'DB', 'AAP', 'SGPT', 'SGOT','TP', 'ALBA', 'AGR']\n",
    "input_df = pd.DataFrame(input.reshape(1,-1), columns=columns)\n"
   ]
  },
  {
   "cell_type": "code",
   "execution_count": 3,
   "id": "fe3f868e-728e-4181-938d-0602c959d6e3",
   "metadata": {},
   "outputs": [
    {
     "name": "stdout",
     "output_type": "stream",
     "text": [
      "Index(['Age of the patient', 'Gender of the patient', 'Total Bilirubin',\n",
      "       'Direct Bilirubin', 'Alkphos Alkaline Phosphotase',\n",
      "       'Sgpt Alamine Aminotransferase', 'Sgot Aspartate Aminotransferase',\n",
      "       'Total Protiens', 'ALB Albumin', 'A/G Ratio Albumin and Globulin Ratio',\n",
      "       'Result'],\n",
      "      dtype='object')\n",
      "Index(['AGE', 'GEN', 'TB', 'DB', 'AAP', 'SGPT', 'SGOT', 'TP', 'ALBA', 'AGR'], dtype='object')\n"
     ]
    }
   ],
   "source": [
    "# Load and preprocess training data\n",
    "df=pd.read_csv(\"Liver Patient Dataset (LPD)_train.csv\",encoding=\"unicode_escape\")\n",
    "print(df.columns)\n",
    "print(input_df.columns)"
   ]
  },
  {
   "cell_type": "code",
   "execution_count": 4,
   "id": "5d2cd263-a8ea-4995-936b-f9290eac683e",
   "metadata": {},
   "outputs": [],
   "source": [
    "\n",
    "r={'Age of the patient':'AGE','Gender of the patient':'GEN','Total Bilirubin':'TB','Direct Bilirubin':'DB',\n",
    "     'Alkphos Alkaline Phosphotase':'AAP','Sgpt Alamine Aminotransferase':'SGPT',\n",
    "     'Sgot Aspartate Aminotransferase':'SGOT','Total Protiens':'TP','ALB Albumin':'ALBA',\n",
    "     'A/G Ratio Albumin and Globulin Ratio':'AGR','Result':'Result'}"
   ]
  },
  {
   "cell_type": "code",
   "execution_count": 5,
   "id": "931060e6-e34f-4fe8-a740-9ceebbb78ccc",
   "metadata": {},
   "outputs": [],
   "source": [
    "df.rename(columns=r, inplace=True)"
   ]
  },
  {
   "cell_type": "code",
   "execution_count": 6,
   "id": "7a547d5a-d631-4acb-9186-ad3e92ce4498",
   "metadata": {},
   "outputs": [
    {
     "data": {
      "text/html": [
       "<div>\n",
       "<style scoped>\n",
       "    .dataframe tbody tr th:only-of-type {\n",
       "        vertical-align: middle;\n",
       "    }\n",
       "\n",
       "    .dataframe tbody tr th {\n",
       "        vertical-align: top;\n",
       "    }\n",
       "\n",
       "    .dataframe thead th {\n",
       "        text-align: right;\n",
       "    }\n",
       "</style>\n",
       "<table border=\"1\" class=\"dataframe\">\n",
       "  <thead>\n",
       "    <tr style=\"text-align: right;\">\n",
       "      <th></th>\n",
       "      <th>AGE</th>\n",
       "      <th>GEN</th>\n",
       "      <th>TB</th>\n",
       "      <th>DB</th>\n",
       "      <th>AAP</th>\n",
       "      <th>SGPT</th>\n",
       "      <th>SGOT</th>\n",
       "      <th>TP</th>\n",
       "      <th>ALBA</th>\n",
       "      <th>AGR</th>\n",
       "      <th>Result</th>\n",
       "    </tr>\n",
       "  </thead>\n",
       "  <tbody>\n",
       "    <tr>\n",
       "      <th>0</th>\n",
       "      <td>65.0</td>\n",
       "      <td>Female</td>\n",
       "      <td>0.7</td>\n",
       "      <td>0.1</td>\n",
       "      <td>187.0</td>\n",
       "      <td>16.0</td>\n",
       "      <td>18.0</td>\n",
       "      <td>6.8</td>\n",
       "      <td>3.3</td>\n",
       "      <td>0.90</td>\n",
       "      <td>1</td>\n",
       "    </tr>\n",
       "    <tr>\n",
       "      <th>1</th>\n",
       "      <td>62.0</td>\n",
       "      <td>Male</td>\n",
       "      <td>10.9</td>\n",
       "      <td>5.5</td>\n",
       "      <td>699.0</td>\n",
       "      <td>64.0</td>\n",
       "      <td>100.0</td>\n",
       "      <td>7.5</td>\n",
       "      <td>3.2</td>\n",
       "      <td>0.74</td>\n",
       "      <td>1</td>\n",
       "    </tr>\n",
       "    <tr>\n",
       "      <th>2</th>\n",
       "      <td>62.0</td>\n",
       "      <td>Male</td>\n",
       "      <td>7.3</td>\n",
       "      <td>4.1</td>\n",
       "      <td>490.0</td>\n",
       "      <td>60.0</td>\n",
       "      <td>68.0</td>\n",
       "      <td>7.0</td>\n",
       "      <td>3.3</td>\n",
       "      <td>0.89</td>\n",
       "      <td>1</td>\n",
       "    </tr>\n",
       "    <tr>\n",
       "      <th>3</th>\n",
       "      <td>58.0</td>\n",
       "      <td>Male</td>\n",
       "      <td>1.0</td>\n",
       "      <td>0.4</td>\n",
       "      <td>182.0</td>\n",
       "      <td>14.0</td>\n",
       "      <td>20.0</td>\n",
       "      <td>6.8</td>\n",
       "      <td>3.4</td>\n",
       "      <td>1.00</td>\n",
       "      <td>1</td>\n",
       "    </tr>\n",
       "    <tr>\n",
       "      <th>4</th>\n",
       "      <td>72.0</td>\n",
       "      <td>Male</td>\n",
       "      <td>3.9</td>\n",
       "      <td>2.0</td>\n",
       "      <td>195.0</td>\n",
       "      <td>27.0</td>\n",
       "      <td>59.0</td>\n",
       "      <td>7.3</td>\n",
       "      <td>2.4</td>\n",
       "      <td>0.40</td>\n",
       "      <td>1</td>\n",
       "    </tr>\n",
       "    <tr>\n",
       "      <th>5</th>\n",
       "      <td>46.0</td>\n",
       "      <td>Male</td>\n",
       "      <td>1.8</td>\n",
       "      <td>0.7</td>\n",
       "      <td>208.0</td>\n",
       "      <td>19.0</td>\n",
       "      <td>14.0</td>\n",
       "      <td>7.6</td>\n",
       "      <td>4.4</td>\n",
       "      <td>1.30</td>\n",
       "      <td>1</td>\n",
       "    </tr>\n",
       "    <tr>\n",
       "      <th>6</th>\n",
       "      <td>26.0</td>\n",
       "      <td>Female</td>\n",
       "      <td>0.9</td>\n",
       "      <td>0.2</td>\n",
       "      <td>154.0</td>\n",
       "      <td>NaN</td>\n",
       "      <td>12.0</td>\n",
       "      <td>7.0</td>\n",
       "      <td>3.5</td>\n",
       "      <td>1.00</td>\n",
       "      <td>1</td>\n",
       "    </tr>\n",
       "    <tr>\n",
       "      <th>7</th>\n",
       "      <td>29.0</td>\n",
       "      <td>Female</td>\n",
       "      <td>0.9</td>\n",
       "      <td>0.3</td>\n",
       "      <td>202.0</td>\n",
       "      <td>14.0</td>\n",
       "      <td>11.0</td>\n",
       "      <td>6.7</td>\n",
       "      <td>3.6</td>\n",
       "      <td>1.10</td>\n",
       "      <td>1</td>\n",
       "    </tr>\n",
       "    <tr>\n",
       "      <th>8</th>\n",
       "      <td>17.0</td>\n",
       "      <td>Male</td>\n",
       "      <td>0.9</td>\n",
       "      <td>0.3</td>\n",
       "      <td>202.0</td>\n",
       "      <td>22.0</td>\n",
       "      <td>19.0</td>\n",
       "      <td>7.4</td>\n",
       "      <td>4.1</td>\n",
       "      <td>1.20</td>\n",
       "      <td>2</td>\n",
       "    </tr>\n",
       "    <tr>\n",
       "      <th>9</th>\n",
       "      <td>55.0</td>\n",
       "      <td>Male</td>\n",
       "      <td>0.7</td>\n",
       "      <td>0.2</td>\n",
       "      <td>290.0</td>\n",
       "      <td>53.0</td>\n",
       "      <td>58.0</td>\n",
       "      <td>6.8</td>\n",
       "      <td>3.4</td>\n",
       "      <td>1.00</td>\n",
       "      <td>1</td>\n",
       "    </tr>\n",
       "  </tbody>\n",
       "</table>\n",
       "</div>"
      ],
      "text/plain": [
       "    AGE     GEN    TB   DB    AAP  SGPT   SGOT   TP  ALBA   AGR  Result\n",
       "0  65.0  Female   0.7  0.1  187.0  16.0   18.0  6.8   3.3  0.90       1\n",
       "1  62.0    Male  10.9  5.5  699.0  64.0  100.0  7.5   3.2  0.74       1\n",
       "2  62.0    Male   7.3  4.1  490.0  60.0   68.0  7.0   3.3  0.89       1\n",
       "3  58.0    Male   1.0  0.4  182.0  14.0   20.0  6.8   3.4  1.00       1\n",
       "4  72.0    Male   3.9  2.0  195.0  27.0   59.0  7.3   2.4  0.40       1\n",
       "5  46.0    Male   1.8  0.7  208.0  19.0   14.0  7.6   4.4  1.30       1\n",
       "6  26.0  Female   0.9  0.2  154.0   NaN   12.0  7.0   3.5  1.00       1\n",
       "7  29.0  Female   0.9  0.3  202.0  14.0   11.0  6.7   3.6  1.10       1\n",
       "8  17.0    Male   0.9  0.3  202.0  22.0   19.0  7.4   4.1  1.20       2\n",
       "9  55.0    Male   0.7  0.2  290.0  53.0   58.0  6.8   3.4  1.00       1"
      ]
     },
     "execution_count": 6,
     "metadata": {},
     "output_type": "execute_result"
    }
   ],
   "source": [
    "df.head(10)"
   ]
  },
  {
   "cell_type": "code",
   "execution_count": 7,
   "id": "03e53cfd-02dc-4566-a17b-b383ff575f2e",
   "metadata": {},
   "outputs": [
    {
     "data": {
      "text/plain": [
       "(30691, 11)"
      ]
     },
     "execution_count": 7,
     "metadata": {},
     "output_type": "execute_result"
    }
   ],
   "source": [
    "df.shape"
   ]
  },
  {
   "cell_type": "code",
   "execution_count": 8,
   "id": "7e8b8e69-3265-47a2-b33f-96b8794d56aa",
   "metadata": {},
   "outputs": [
    {
     "data": {
      "text/plain": [
       "Result\n",
       "1    21917\n",
       "0     8774\n",
       "Name: count, dtype: int64"
      ]
     },
     "execution_count": 8,
     "metadata": {},
     "output_type": "execute_result"
    }
   ],
   "source": [
    "\n",
    "# Replace Result column values\n",
    "# In original Dataset 1=Liver patient and 2=Healthy\n",
    "# For better understanding Replace 1 with 1 and 0 for 2\n",
    "d_target = {1: 1, 2: 0}\n",
    "df.replace({'Result': d_target}, inplace=True)\n",
    "df.Result.value_counts()\n"
   ]
  },
  {
   "cell_type": "code",
   "execution_count": 9,
   "id": "eb5f2b09-ef1f-4d7d-972c-65924f3ede99",
   "metadata": {},
   "outputs": [
    {
     "data": {
      "text/html": [
       "<div>\n",
       "<style scoped>\n",
       "    .dataframe tbody tr th:only-of-type {\n",
       "        vertical-align: middle;\n",
       "    }\n",
       "\n",
       "    .dataframe tbody tr th {\n",
       "        vertical-align: top;\n",
       "    }\n",
       "\n",
       "    .dataframe thead th {\n",
       "        text-align: right;\n",
       "    }\n",
       "</style>\n",
       "<table border=\"1\" class=\"dataframe\">\n",
       "  <thead>\n",
       "    <tr style=\"text-align: right;\">\n",
       "      <th></th>\n",
       "      <th>AGE</th>\n",
       "      <th>TB</th>\n",
       "      <th>DB</th>\n",
       "      <th>AAP</th>\n",
       "      <th>SGPT</th>\n",
       "      <th>SGOT</th>\n",
       "      <th>TP</th>\n",
       "      <th>ALBA</th>\n",
       "      <th>AGR</th>\n",
       "      <th>Result</th>\n",
       "    </tr>\n",
       "  </thead>\n",
       "  <tbody>\n",
       "    <tr>\n",
       "      <th>count</th>\n",
       "      <td>30689.000000</td>\n",
       "      <td>30043.000000</td>\n",
       "      <td>30130.000000</td>\n",
       "      <td>29895.000000</td>\n",
       "      <td>30153.000000</td>\n",
       "      <td>30229.000000</td>\n",
       "      <td>30228.000000</td>\n",
       "      <td>30197.000000</td>\n",
       "      <td>30132.000000</td>\n",
       "      <td>30691.000000</td>\n",
       "    </tr>\n",
       "    <tr>\n",
       "      <th>mean</th>\n",
       "      <td>44.107205</td>\n",
       "      <td>3.370319</td>\n",
       "      <td>1.528042</td>\n",
       "      <td>289.075364</td>\n",
       "      <td>81.488641</td>\n",
       "      <td>111.469979</td>\n",
       "      <td>6.480237</td>\n",
       "      <td>3.130142</td>\n",
       "      <td>0.943467</td>\n",
       "      <td>0.714118</td>\n",
       "    </tr>\n",
       "    <tr>\n",
       "      <th>std</th>\n",
       "      <td>15.981043</td>\n",
       "      <td>6.255522</td>\n",
       "      <td>2.869592</td>\n",
       "      <td>238.537589</td>\n",
       "      <td>182.158850</td>\n",
       "      <td>280.851078</td>\n",
       "      <td>1.081980</td>\n",
       "      <td>0.792281</td>\n",
       "      <td>0.323164</td>\n",
       "      <td>0.451841</td>\n",
       "    </tr>\n",
       "    <tr>\n",
       "      <th>min</th>\n",
       "      <td>4.000000</td>\n",
       "      <td>0.400000</td>\n",
       "      <td>0.100000</td>\n",
       "      <td>63.000000</td>\n",
       "      <td>10.000000</td>\n",
       "      <td>10.000000</td>\n",
       "      <td>2.700000</td>\n",
       "      <td>0.900000</td>\n",
       "      <td>0.300000</td>\n",
       "      <td>0.000000</td>\n",
       "    </tr>\n",
       "    <tr>\n",
       "      <th>25%</th>\n",
       "      <td>32.000000</td>\n",
       "      <td>0.800000</td>\n",
       "      <td>0.200000</td>\n",
       "      <td>175.000000</td>\n",
       "      <td>23.000000</td>\n",
       "      <td>26.000000</td>\n",
       "      <td>5.800000</td>\n",
       "      <td>2.600000</td>\n",
       "      <td>0.700000</td>\n",
       "      <td>0.000000</td>\n",
       "    </tr>\n",
       "    <tr>\n",
       "      <th>50%</th>\n",
       "      <td>45.000000</td>\n",
       "      <td>1.000000</td>\n",
       "      <td>0.300000</td>\n",
       "      <td>209.000000</td>\n",
       "      <td>35.000000</td>\n",
       "      <td>42.000000</td>\n",
       "      <td>6.600000</td>\n",
       "      <td>3.100000</td>\n",
       "      <td>0.900000</td>\n",
       "      <td>1.000000</td>\n",
       "    </tr>\n",
       "    <tr>\n",
       "      <th>75%</th>\n",
       "      <td>55.000000</td>\n",
       "      <td>2.700000</td>\n",
       "      <td>1.300000</td>\n",
       "      <td>298.000000</td>\n",
       "      <td>62.000000</td>\n",
       "      <td>88.000000</td>\n",
       "      <td>7.200000</td>\n",
       "      <td>3.800000</td>\n",
       "      <td>1.100000</td>\n",
       "      <td>1.000000</td>\n",
       "    </tr>\n",
       "    <tr>\n",
       "      <th>max</th>\n",
       "      <td>90.000000</td>\n",
       "      <td>75.000000</td>\n",
       "      <td>19.700000</td>\n",
       "      <td>2110.000000</td>\n",
       "      <td>2000.000000</td>\n",
       "      <td>4929.000000</td>\n",
       "      <td>9.600000</td>\n",
       "      <td>5.500000</td>\n",
       "      <td>2.800000</td>\n",
       "      <td>1.000000</td>\n",
       "    </tr>\n",
       "  </tbody>\n",
       "</table>\n",
       "</div>"
      ],
      "text/plain": [
       "                AGE            TB            DB           AAP          SGPT  \\\n",
       "count  30689.000000  30043.000000  30130.000000  29895.000000  30153.000000   \n",
       "mean      44.107205      3.370319      1.528042    289.075364     81.488641   \n",
       "std       15.981043      6.255522      2.869592    238.537589    182.158850   \n",
       "min        4.000000      0.400000      0.100000     63.000000     10.000000   \n",
       "25%       32.000000      0.800000      0.200000    175.000000     23.000000   \n",
       "50%       45.000000      1.000000      0.300000    209.000000     35.000000   \n",
       "75%       55.000000      2.700000      1.300000    298.000000     62.000000   \n",
       "max       90.000000     75.000000     19.700000   2110.000000   2000.000000   \n",
       "\n",
       "               SGOT            TP          ALBA           AGR        Result  \n",
       "count  30229.000000  30228.000000  30197.000000  30132.000000  30691.000000  \n",
       "mean     111.469979      6.480237      3.130142      0.943467      0.714118  \n",
       "std      280.851078      1.081980      0.792281      0.323164      0.451841  \n",
       "min       10.000000      2.700000      0.900000      0.300000      0.000000  \n",
       "25%       26.000000      5.800000      2.600000      0.700000      0.000000  \n",
       "50%       42.000000      6.600000      3.100000      0.900000      1.000000  \n",
       "75%       88.000000      7.200000      3.800000      1.100000      1.000000  \n",
       "max     4929.000000      9.600000      5.500000      2.800000      1.000000  "
      ]
     },
     "execution_count": 9,
     "metadata": {},
     "output_type": "execute_result"
    }
   ],
   "source": [
    "df.describe()"
   ]
  },
  {
   "cell_type": "code",
   "execution_count": 10,
   "id": "c8082177-3ae7-42bb-9672-91639549dae8",
   "metadata": {},
   "outputs": [
    {
     "name": "stdout",
     "output_type": "stream",
     "text": [
      "['AGE' 'TB' 'DB' 'AAP' 'SGPT' 'SGOT' 'TP' 'ALBA' 'AGR']\n",
      "['GEN']\n"
     ]
    }
   ],
   "source": [
    "df_num = df.select_dtypes(include=[np.number])\n",
    "df_cat = df.select_dtypes(include=[object])\n",
    "num_cols = df_num.columns.values[:-1]\n",
    "cat_cols = df_cat.columns.values\n",
    "print(num_cols)\n",
    "print(cat_cols)"
   ]
  },
  {
   "cell_type": "code",
   "execution_count": 11,
   "id": "f741502e-3df7-474d-9c6c-eebd6c4defa3",
   "metadata": {},
   "outputs": [
    {
     "data": {
      "text/html": [
       "<div>\n",
       "<style scoped>\n",
       "    .dataframe tbody tr th:only-of-type {\n",
       "        vertical-align: middle;\n",
       "    }\n",
       "\n",
       "    .dataframe tbody tr th {\n",
       "        vertical-align: top;\n",
       "    }\n",
       "\n",
       "    .dataframe thead th {\n",
       "        text-align: right;\n",
       "    }\n",
       "</style>\n",
       "<table border=\"1\" class=\"dataframe\">\n",
       "  <thead>\n",
       "    <tr style=\"text-align: right;\">\n",
       "      <th></th>\n",
       "      <th>AGE</th>\n",
       "      <th>GEN</th>\n",
       "      <th>TB</th>\n",
       "      <th>DB</th>\n",
       "      <th>AAP</th>\n",
       "      <th>SGPT</th>\n",
       "      <th>SGOT</th>\n",
       "      <th>TP</th>\n",
       "      <th>ALBA</th>\n",
       "      <th>AGR</th>\n",
       "      <th>Result</th>\n",
       "    </tr>\n",
       "  </thead>\n",
       "  <tbody>\n",
       "    <tr>\n",
       "      <th>0</th>\n",
       "      <td>65.0</td>\n",
       "      <td>Female</td>\n",
       "      <td>0.7</td>\n",
       "      <td>0.1</td>\n",
       "      <td>187.0</td>\n",
       "      <td>16.0</td>\n",
       "      <td>18.0</td>\n",
       "      <td>6.8</td>\n",
       "      <td>3.3</td>\n",
       "      <td>0.90</td>\n",
       "      <td>1</td>\n",
       "    </tr>\n",
       "    <tr>\n",
       "      <th>1</th>\n",
       "      <td>62.0</td>\n",
       "      <td>Male</td>\n",
       "      <td>10.9</td>\n",
       "      <td>5.5</td>\n",
       "      <td>699.0</td>\n",
       "      <td>64.0</td>\n",
       "      <td>100.0</td>\n",
       "      <td>7.5</td>\n",
       "      <td>3.2</td>\n",
       "      <td>0.74</td>\n",
       "      <td>1</td>\n",
       "    </tr>\n",
       "    <tr>\n",
       "      <th>2</th>\n",
       "      <td>62.0</td>\n",
       "      <td>Male</td>\n",
       "      <td>7.3</td>\n",
       "      <td>4.1</td>\n",
       "      <td>490.0</td>\n",
       "      <td>60.0</td>\n",
       "      <td>68.0</td>\n",
       "      <td>7.0</td>\n",
       "      <td>3.3</td>\n",
       "      <td>0.89</td>\n",
       "      <td>1</td>\n",
       "    </tr>\n",
       "    <tr>\n",
       "      <th>3</th>\n",
       "      <td>58.0</td>\n",
       "      <td>Male</td>\n",
       "      <td>1.0</td>\n",
       "      <td>0.4</td>\n",
       "      <td>182.0</td>\n",
       "      <td>14.0</td>\n",
       "      <td>20.0</td>\n",
       "      <td>6.8</td>\n",
       "      <td>3.4</td>\n",
       "      <td>1.00</td>\n",
       "      <td>1</td>\n",
       "    </tr>\n",
       "    <tr>\n",
       "      <th>4</th>\n",
       "      <td>72.0</td>\n",
       "      <td>Male</td>\n",
       "      <td>3.9</td>\n",
       "      <td>2.0</td>\n",
       "      <td>195.0</td>\n",
       "      <td>27.0</td>\n",
       "      <td>59.0</td>\n",
       "      <td>7.3</td>\n",
       "      <td>2.4</td>\n",
       "      <td>0.40</td>\n",
       "      <td>1</td>\n",
       "    </tr>\n",
       "    <tr>\n",
       "      <th>5</th>\n",
       "      <td>46.0</td>\n",
       "      <td>Male</td>\n",
       "      <td>1.8</td>\n",
       "      <td>0.7</td>\n",
       "      <td>208.0</td>\n",
       "      <td>19.0</td>\n",
       "      <td>14.0</td>\n",
       "      <td>7.6</td>\n",
       "      <td>4.4</td>\n",
       "      <td>1.30</td>\n",
       "      <td>1</td>\n",
       "    </tr>\n",
       "    <tr>\n",
       "      <th>6</th>\n",
       "      <td>26.0</td>\n",
       "      <td>Female</td>\n",
       "      <td>0.9</td>\n",
       "      <td>0.2</td>\n",
       "      <td>154.0</td>\n",
       "      <td>NaN</td>\n",
       "      <td>12.0</td>\n",
       "      <td>7.0</td>\n",
       "      <td>3.5</td>\n",
       "      <td>1.00</td>\n",
       "      <td>1</td>\n",
       "    </tr>\n",
       "    <tr>\n",
       "      <th>7</th>\n",
       "      <td>29.0</td>\n",
       "      <td>Female</td>\n",
       "      <td>0.9</td>\n",
       "      <td>0.3</td>\n",
       "      <td>202.0</td>\n",
       "      <td>14.0</td>\n",
       "      <td>11.0</td>\n",
       "      <td>6.7</td>\n",
       "      <td>3.6</td>\n",
       "      <td>1.10</td>\n",
       "      <td>1</td>\n",
       "    </tr>\n",
       "    <tr>\n",
       "      <th>8</th>\n",
       "      <td>17.0</td>\n",
       "      <td>Male</td>\n",
       "      <td>0.9</td>\n",
       "      <td>0.3</td>\n",
       "      <td>202.0</td>\n",
       "      <td>22.0</td>\n",
       "      <td>19.0</td>\n",
       "      <td>7.4</td>\n",
       "      <td>4.1</td>\n",
       "      <td>1.20</td>\n",
       "      <td>0</td>\n",
       "    </tr>\n",
       "    <tr>\n",
       "      <th>9</th>\n",
       "      <td>55.0</td>\n",
       "      <td>Male</td>\n",
       "      <td>0.7</td>\n",
       "      <td>0.2</td>\n",
       "      <td>290.0</td>\n",
       "      <td>53.0</td>\n",
       "      <td>58.0</td>\n",
       "      <td>6.8</td>\n",
       "      <td>3.4</td>\n",
       "      <td>1.00</td>\n",
       "      <td>1</td>\n",
       "    </tr>\n",
       "  </tbody>\n",
       "</table>\n",
       "</div>"
      ],
      "text/plain": [
       "    AGE     GEN    TB   DB    AAP  SGPT   SGOT   TP  ALBA   AGR  Result\n",
       "0  65.0  Female   0.7  0.1  187.0  16.0   18.0  6.8   3.3  0.90       1\n",
       "1  62.0    Male  10.9  5.5  699.0  64.0  100.0  7.5   3.2  0.74       1\n",
       "2  62.0    Male   7.3  4.1  490.0  60.0   68.0  7.0   3.3  0.89       1\n",
       "3  58.0    Male   1.0  0.4  182.0  14.0   20.0  6.8   3.4  1.00       1\n",
       "4  72.0    Male   3.9  2.0  195.0  27.0   59.0  7.3   2.4  0.40       1\n",
       "5  46.0    Male   1.8  0.7  208.0  19.0   14.0  7.6   4.4  1.30       1\n",
       "6  26.0  Female   0.9  0.2  154.0   NaN   12.0  7.0   3.5  1.00       1\n",
       "7  29.0  Female   0.9  0.3  202.0  14.0   11.0  6.7   3.6  1.10       1\n",
       "8  17.0    Male   0.9  0.3  202.0  22.0   19.0  7.4   4.1  1.20       0\n",
       "9  55.0    Male   0.7  0.2  290.0  53.0   58.0  6.8   3.4  1.00       1"
      ]
     },
     "execution_count": 11,
     "metadata": {},
     "output_type": "execute_result"
    }
   ],
   "source": [
    "df.head(10)"
   ]
  },
  {
   "cell_type": "code",
   "execution_count": 12,
   "id": "9daac2ae-3d74-4d44-bb0f-627427d19ee9",
   "metadata": {},
   "outputs": [
    {
     "data": {
      "text/plain": [
       "GEN       902\n",
       "AAP       796\n",
       "TB        648\n",
       "DB        561\n",
       "AGR       559\n",
       "SGPT      538\n",
       "ALBA      494\n",
       "TP        463\n",
       "SGOT      462\n",
       "AGE         2\n",
       "Result      0\n",
       "dtype: int64"
      ]
     },
     "execution_count": 12,
     "metadata": {},
     "output_type": "execute_result"
    }
   ],
   "source": [
    "df.isna().sum().sort_values(ascending=False)\n",
    "#Below we can see the number of empty values(Null) in each columns"
   ]
  },
  {
   "cell_type": "code",
   "execution_count": 13,
   "id": "77627887-7fd8-401e-bde8-aca77cfd55b7",
   "metadata": {},
   "outputs": [],
   "source": [
    "#Delete duplicate records\n",
    "df.drop_duplicates(inplace=True)"
   ]
  },
  {
   "cell_type": "code",
   "execution_count": 14,
   "id": "f3ef546e-7a7d-4421-9d79-ed20d0a738ab",
   "metadata": {},
   "outputs": [
    {
     "data": {
      "text/html": [
       "<div>\n",
       "<style scoped>\n",
       "    .dataframe tbody tr th:only-of-type {\n",
       "        vertical-align: middle;\n",
       "    }\n",
       "\n",
       "    .dataframe tbody tr th {\n",
       "        vertical-align: top;\n",
       "    }\n",
       "\n",
       "    .dataframe thead th {\n",
       "        text-align: right;\n",
       "    }\n",
       "</style>\n",
       "<table border=\"1\" class=\"dataframe\">\n",
       "  <thead>\n",
       "    <tr style=\"text-align: right;\">\n",
       "      <th></th>\n",
       "      <th>AGE</th>\n",
       "      <th>TB</th>\n",
       "      <th>DB</th>\n",
       "      <th>AAP</th>\n",
       "      <th>SGPT</th>\n",
       "      <th>SGOT</th>\n",
       "      <th>TP</th>\n",
       "      <th>ALBA</th>\n",
       "      <th>AGR</th>\n",
       "      <th>Result</th>\n",
       "    </tr>\n",
       "  </thead>\n",
       "  <tbody>\n",
       "    <tr>\n",
       "      <th>count</th>\n",
       "      <td>19367.000000</td>\n",
       "      <td>18811.000000</td>\n",
       "      <td>18878.000000</td>\n",
       "      <td>18674.000000</td>\n",
       "      <td>18909.000000</td>\n",
       "      <td>18975.000000</td>\n",
       "      <td>18998.000000</td>\n",
       "      <td>18955.000000</td>\n",
       "      <td>18932.000000</td>\n",
       "      <td>19368.000000</td>\n",
       "    </tr>\n",
       "    <tr>\n",
       "      <th>mean</th>\n",
       "      <td>43.809986</td>\n",
       "      <td>3.315767</td>\n",
       "      <td>1.515637</td>\n",
       "      <td>289.407411</td>\n",
       "      <td>80.598762</td>\n",
       "      <td>110.790672</td>\n",
       "      <td>6.494326</td>\n",
       "      <td>3.141045</td>\n",
       "      <td>0.945888</td>\n",
       "      <td>0.713083</td>\n",
       "    </tr>\n",
       "    <tr>\n",
       "      <th>std</th>\n",
       "      <td>16.454988</td>\n",
       "      <td>6.111851</td>\n",
       "      <td>2.863609</td>\n",
       "      <td>239.727272</td>\n",
       "      <td>181.134634</td>\n",
       "      <td>278.927937</td>\n",
       "      <td>1.089985</td>\n",
       "      <td>0.793602</td>\n",
       "      <td>0.322023</td>\n",
       "      <td>0.452334</td>\n",
       "    </tr>\n",
       "    <tr>\n",
       "      <th>min</th>\n",
       "      <td>4.000000</td>\n",
       "      <td>0.400000</td>\n",
       "      <td>0.100000</td>\n",
       "      <td>63.000000</td>\n",
       "      <td>10.000000</td>\n",
       "      <td>10.000000</td>\n",
       "      <td>2.700000</td>\n",
       "      <td>0.900000</td>\n",
       "      <td>0.300000</td>\n",
       "      <td>0.000000</td>\n",
       "    </tr>\n",
       "    <tr>\n",
       "      <th>25%</th>\n",
       "      <td>32.000000</td>\n",
       "      <td>0.800000</td>\n",
       "      <td>0.200000</td>\n",
       "      <td>175.000000</td>\n",
       "      <td>23.000000</td>\n",
       "      <td>25.000000</td>\n",
       "      <td>5.800000</td>\n",
       "      <td>2.600000</td>\n",
       "      <td>0.700000</td>\n",
       "      <td>0.000000</td>\n",
       "    </tr>\n",
       "    <tr>\n",
       "      <th>50%</th>\n",
       "      <td>45.000000</td>\n",
       "      <td>1.000000</td>\n",
       "      <td>0.300000</td>\n",
       "      <td>208.000000</td>\n",
       "      <td>35.000000</td>\n",
       "      <td>42.000000</td>\n",
       "      <td>6.600000</td>\n",
       "      <td>3.100000</td>\n",
       "      <td>0.930000</td>\n",
       "      <td>1.000000</td>\n",
       "    </tr>\n",
       "    <tr>\n",
       "      <th>75%</th>\n",
       "      <td>55.000000</td>\n",
       "      <td>2.600000</td>\n",
       "      <td>1.300000</td>\n",
       "      <td>298.000000</td>\n",
       "      <td>61.000000</td>\n",
       "      <td>88.000000</td>\n",
       "      <td>7.200000</td>\n",
       "      <td>3.800000</td>\n",
       "      <td>1.100000</td>\n",
       "      <td>1.000000</td>\n",
       "    </tr>\n",
       "    <tr>\n",
       "      <th>max</th>\n",
       "      <td>90.000000</td>\n",
       "      <td>75.000000</td>\n",
       "      <td>19.700000</td>\n",
       "      <td>2110.000000</td>\n",
       "      <td>2000.000000</td>\n",
       "      <td>4929.000000</td>\n",
       "      <td>9.600000</td>\n",
       "      <td>5.500000</td>\n",
       "      <td>2.800000</td>\n",
       "      <td>1.000000</td>\n",
       "    </tr>\n",
       "  </tbody>\n",
       "</table>\n",
       "</div>"
      ],
      "text/plain": [
       "                AGE            TB            DB           AAP          SGPT  \\\n",
       "count  19367.000000  18811.000000  18878.000000  18674.000000  18909.000000   \n",
       "mean      43.809986      3.315767      1.515637    289.407411     80.598762   \n",
       "std       16.454988      6.111851      2.863609    239.727272    181.134634   \n",
       "min        4.000000      0.400000      0.100000     63.000000     10.000000   \n",
       "25%       32.000000      0.800000      0.200000    175.000000     23.000000   \n",
       "50%       45.000000      1.000000      0.300000    208.000000     35.000000   \n",
       "75%       55.000000      2.600000      1.300000    298.000000     61.000000   \n",
       "max       90.000000     75.000000     19.700000   2110.000000   2000.000000   \n",
       "\n",
       "               SGOT            TP          ALBA           AGR        Result  \n",
       "count  18975.000000  18998.000000  18955.000000  18932.000000  19368.000000  \n",
       "mean     110.790672      6.494326      3.141045      0.945888      0.713083  \n",
       "std      278.927937      1.089985      0.793602      0.322023      0.452334  \n",
       "min       10.000000      2.700000      0.900000      0.300000      0.000000  \n",
       "25%       25.000000      5.800000      2.600000      0.700000      0.000000  \n",
       "50%       42.000000      6.600000      3.100000      0.930000      1.000000  \n",
       "75%       88.000000      7.200000      3.800000      1.100000      1.000000  \n",
       "max     4929.000000      9.600000      5.500000      2.800000      1.000000  "
      ]
     },
     "execution_count": 14,
     "metadata": {},
     "output_type": "execute_result"
    }
   ],
   "source": [
    "df.describe()"
   ]
  },
  {
   "cell_type": "code",
   "execution_count": 15,
   "id": "5fad21b6-8a70-4eda-b2e1-c3733a72759b",
   "metadata": {},
   "outputs": [
    {
     "data": {
      "text/plain": [
       "GEN       796\n",
       "AAP       694\n",
       "TB        557\n",
       "DB        490\n",
       "SGPT      459\n",
       "AGR       436\n",
       "ALBA      413\n",
       "SGOT      393\n",
       "TP        370\n",
       "AGE         1\n",
       "Result      0\n",
       "dtype: int64"
      ]
     },
     "execution_count": 15,
     "metadata": {},
     "output_type": "execute_result"
    }
   ],
   "source": [
    "df.isna().sum().sort_values(ascending=False)"
   ]
  },
  {
   "cell_type": "code",
   "execution_count": 16,
   "id": "1c22a39b-42e8-4cde-a3c8-d87119a1122b",
   "metadata": {},
   "outputs": [
    {
     "data": {
      "text/plain": [
       "GEN       4.109872\n",
       "AAP       3.583230\n",
       "TB        2.875878\n",
       "DB        2.529946\n",
       "SGPT      2.369888\n",
       "AGR       2.251136\n",
       "ALBA      2.132383\n",
       "SGOT      2.029120\n",
       "TP        1.910368\n",
       "AGE       0.005163\n",
       "Result    0.000000\n",
       "dtype: float64"
      ]
     },
     "execution_count": 16,
     "metadata": {},
     "output_type": "execute_result"
    }
   ],
   "source": [
    "df.isna().mean().mul(100).sort_values(ascending=False)"
   ]
  },
  {
   "cell_type": "code",
   "execution_count": 17,
   "id": "77b153d2-983c-42fb-b756-5514009ba2fd",
   "metadata": {},
   "outputs": [],
   "source": [
    "#Replace missing values with mean values\n",
    "for col in num_cols:\n",
    "    if df[col].isna().mean()*100 < 15:\n",
    "        cur_mean = np.mean(df[col])\n",
    "        df[col] = df[col].fillna(cur_mean)"
   ]
  },
  {
   "cell_type": "code",
   "execution_count": 18,
   "id": "058b5993-f21d-4159-8423-edd050ca49df",
   "metadata": {},
   "outputs": [
    {
     "data": {
      "text/plain": [
       "GEN       4.109872\n",
       "AGE       0.000000\n",
       "TB        0.000000\n",
       "DB        0.000000\n",
       "AAP       0.000000\n",
       "SGPT      0.000000\n",
       "SGOT      0.000000\n",
       "TP        0.000000\n",
       "ALBA      0.000000\n",
       "AGR       0.000000\n",
       "Result    0.000000\n",
       "dtype: float64"
      ]
     },
     "execution_count": 18,
     "metadata": {},
     "output_type": "execute_result"
    }
   ],
   "source": [
    "df.isna().mean().mul(100).sort_values(ascending=False)"
   ]
  },
  {
   "cell_type": "code",
   "execution_count": 19,
   "id": "b22e69fa-1b83-4c3c-a689-3b817dc94aad",
   "metadata": {},
   "outputs": [
    {
     "data": {
      "text/plain": [
       "GEN       796\n",
       "AGE         0\n",
       "TB          0\n",
       "DB          0\n",
       "AAP         0\n",
       "SGPT        0\n",
       "SGOT        0\n",
       "TP          0\n",
       "ALBA        0\n",
       "AGR         0\n",
       "Result      0\n",
       "dtype: int64"
      ]
     },
     "execution_count": 19,
     "metadata": {},
     "output_type": "execute_result"
    }
   ],
   "source": [
    "df.isna().sum().sort_values(ascending=False)"
   ]
  },
  {
   "cell_type": "code",
   "execution_count": 20,
   "id": "b3806191-55fd-4062-9009-cb6afc30ec2b",
   "metadata": {},
   "outputs": [],
   "source": [
    "df.dropna(inplace=True)"
   ]
  },
  {
   "cell_type": "code",
   "execution_count": 21,
   "id": "641b5ba8-7229-43d8-903f-8d37b2cf60ae",
   "metadata": {},
   "outputs": [
    {
     "data": {
      "text/html": [
       "<div>\n",
       "<style scoped>\n",
       "    .dataframe tbody tr th:only-of-type {\n",
       "        vertical-align: middle;\n",
       "    }\n",
       "\n",
       "    .dataframe tbody tr th {\n",
       "        vertical-align: top;\n",
       "    }\n",
       "\n",
       "    .dataframe thead th {\n",
       "        text-align: right;\n",
       "    }\n",
       "</style>\n",
       "<table border=\"1\" class=\"dataframe\">\n",
       "  <thead>\n",
       "    <tr style=\"text-align: right;\">\n",
       "      <th></th>\n",
       "      <th>AGE</th>\n",
       "      <th>TB</th>\n",
       "      <th>DB</th>\n",
       "      <th>AAP</th>\n",
       "      <th>SGPT</th>\n",
       "      <th>SGOT</th>\n",
       "      <th>TP</th>\n",
       "      <th>ALBA</th>\n",
       "      <th>AGR</th>\n",
       "      <th>Result</th>\n",
       "    </tr>\n",
       "  </thead>\n",
       "  <tbody>\n",
       "    <tr>\n",
       "      <th>count</th>\n",
       "      <td>18572.000000</td>\n",
       "      <td>18572.000000</td>\n",
       "      <td>18572.000000</td>\n",
       "      <td>18572.000000</td>\n",
       "      <td>18572.000000</td>\n",
       "      <td>18572.000000</td>\n",
       "      <td>18572.000000</td>\n",
       "      <td>18572.000000</td>\n",
       "      <td>18572.000000</td>\n",
       "      <td>18572.000000</td>\n",
       "    </tr>\n",
       "    <tr>\n",
       "      <th>mean</th>\n",
       "      <td>43.821388</td>\n",
       "      <td>3.324554</td>\n",
       "      <td>1.516214</td>\n",
       "      <td>289.845588</td>\n",
       "      <td>80.317461</td>\n",
       "      <td>110.662307</td>\n",
       "      <td>6.494993</td>\n",
       "      <td>3.140064</td>\n",
       "      <td>0.945462</td>\n",
       "      <td>0.714086</td>\n",
       "    </tr>\n",
       "    <tr>\n",
       "      <th>std</th>\n",
       "      <td>16.474061</td>\n",
       "      <td>6.069265</td>\n",
       "      <td>2.835645</td>\n",
       "      <td>236.187529</td>\n",
       "      <td>178.371099</td>\n",
       "      <td>274.294339</td>\n",
       "      <td>1.079924</td>\n",
       "      <td>0.785859</td>\n",
       "      <td>0.318758</td>\n",
       "      <td>0.451861</td>\n",
       "    </tr>\n",
       "    <tr>\n",
       "      <th>min</th>\n",
       "      <td>4.000000</td>\n",
       "      <td>0.400000</td>\n",
       "      <td>0.100000</td>\n",
       "      <td>63.000000</td>\n",
       "      <td>10.000000</td>\n",
       "      <td>10.000000</td>\n",
       "      <td>2.700000</td>\n",
       "      <td>0.900000</td>\n",
       "      <td>0.300000</td>\n",
       "      <td>0.000000</td>\n",
       "    </tr>\n",
       "    <tr>\n",
       "      <th>25%</th>\n",
       "      <td>32.000000</td>\n",
       "      <td>0.800000</td>\n",
       "      <td>0.200000</td>\n",
       "      <td>177.000000</td>\n",
       "      <td>23.000000</td>\n",
       "      <td>26.000000</td>\n",
       "      <td>5.800000</td>\n",
       "      <td>2.600000</td>\n",
       "      <td>0.700000</td>\n",
       "      <td>0.000000</td>\n",
       "    </tr>\n",
       "    <tr>\n",
       "      <th>50%</th>\n",
       "      <td>45.000000</td>\n",
       "      <td>1.000000</td>\n",
       "      <td>0.300000</td>\n",
       "      <td>214.000000</td>\n",
       "      <td>36.000000</td>\n",
       "      <td>43.000000</td>\n",
       "      <td>6.500000</td>\n",
       "      <td>3.100000</td>\n",
       "      <td>0.945888</td>\n",
       "      <td>1.000000</td>\n",
       "    </tr>\n",
       "    <tr>\n",
       "      <th>75%</th>\n",
       "      <td>55.000000</td>\n",
       "      <td>2.700000</td>\n",
       "      <td>1.400000</td>\n",
       "      <td>293.000000</td>\n",
       "      <td>64.000000</td>\n",
       "      <td>90.000000</td>\n",
       "      <td>7.200000</td>\n",
       "      <td>3.800000</td>\n",
       "      <td>1.100000</td>\n",
       "      <td>1.000000</td>\n",
       "    </tr>\n",
       "    <tr>\n",
       "      <th>max</th>\n",
       "      <td>90.000000</td>\n",
       "      <td>75.000000</td>\n",
       "      <td>19.700000</td>\n",
       "      <td>2110.000000</td>\n",
       "      <td>2000.000000</td>\n",
       "      <td>4929.000000</td>\n",
       "      <td>9.600000</td>\n",
       "      <td>5.500000</td>\n",
       "      <td>2.800000</td>\n",
       "      <td>1.000000</td>\n",
       "    </tr>\n",
       "  </tbody>\n",
       "</table>\n",
       "</div>"
      ],
      "text/plain": [
       "                AGE            TB            DB           AAP          SGPT  \\\n",
       "count  18572.000000  18572.000000  18572.000000  18572.000000  18572.000000   \n",
       "mean      43.821388      3.324554      1.516214    289.845588     80.317461   \n",
       "std       16.474061      6.069265      2.835645    236.187529    178.371099   \n",
       "min        4.000000      0.400000      0.100000     63.000000     10.000000   \n",
       "25%       32.000000      0.800000      0.200000    177.000000     23.000000   \n",
       "50%       45.000000      1.000000      0.300000    214.000000     36.000000   \n",
       "75%       55.000000      2.700000      1.400000    293.000000     64.000000   \n",
       "max       90.000000     75.000000     19.700000   2110.000000   2000.000000   \n",
       "\n",
       "               SGOT            TP          ALBA           AGR        Result  \n",
       "count  18572.000000  18572.000000  18572.000000  18572.000000  18572.000000  \n",
       "mean     110.662307      6.494993      3.140064      0.945462      0.714086  \n",
       "std      274.294339      1.079924      0.785859      0.318758      0.451861  \n",
       "min       10.000000      2.700000      0.900000      0.300000      0.000000  \n",
       "25%       26.000000      5.800000      2.600000      0.700000      0.000000  \n",
       "50%       43.000000      6.500000      3.100000      0.945888      1.000000  \n",
       "75%       90.000000      7.200000      3.800000      1.100000      1.000000  \n",
       "max     4929.000000      9.600000      5.500000      2.800000      1.000000  "
      ]
     },
     "execution_count": 21,
     "metadata": {},
     "output_type": "execute_result"
    }
   ],
   "source": [
    "df.describe()"
   ]
  },
  {
   "cell_type": "code",
   "execution_count": 22,
   "id": "dfab194b-9666-4a2e-b3b7-22b363b6ce93",
   "metadata": {},
   "outputs": [
    {
     "data": {
      "text/plain": [
       "AGE       0.0\n",
       "GEN       0.0\n",
       "TB        0.0\n",
       "DB        0.0\n",
       "AAP       0.0\n",
       "SGPT      0.0\n",
       "SGOT      0.0\n",
       "TP        0.0\n",
       "ALBA      0.0\n",
       "AGR       0.0\n",
       "Result    0.0\n",
       "dtype: float64"
      ]
     },
     "execution_count": 22,
     "metadata": {},
     "output_type": "execute_result"
    }
   ],
   "source": [
    "df.isna().mean().mul(100).sort_values(ascending=False)"
   ]
  },
  {
   "cell_type": "code",
   "execution_count": 23,
   "id": "dd204ebf-76cb-45e7-b389-5987573e97c3",
   "metadata": {},
   "outputs": [
    {
     "data": {
      "text/plain": [
       "AGE       0\n",
       "GEN       0\n",
       "TB        0\n",
       "DB        0\n",
       "AAP       0\n",
       "SGPT      0\n",
       "SGOT      0\n",
       "TP        0\n",
       "ALBA      0\n",
       "AGR       0\n",
       "Result    0\n",
       "dtype: int64"
      ]
     },
     "execution_count": 23,
     "metadata": {},
     "output_type": "execute_result"
    }
   ],
   "source": [
    "df.isna().sum().sort_values(ascending=False)"
   ]
  },
  {
   "cell_type": "code",
   "execution_count": 24,
   "id": "6bb5f676-52ef-42c0-9760-3e10922ff4ea",
   "metadata": {},
   "outputs": [
    {
     "data": {
      "text/html": [
       "<div>\n",
       "<style scoped>\n",
       "    .dataframe tbody tr th:only-of-type {\n",
       "        vertical-align: middle;\n",
       "    }\n",
       "\n",
       "    .dataframe tbody tr th {\n",
       "        vertical-align: top;\n",
       "    }\n",
       "\n",
       "    .dataframe thead th {\n",
       "        text-align: right;\n",
       "    }\n",
       "</style>\n",
       "<table border=\"1\" class=\"dataframe\">\n",
       "  <thead>\n",
       "    <tr style=\"text-align: right;\">\n",
       "      <th></th>\n",
       "      <th>AGE</th>\n",
       "      <th>GEN</th>\n",
       "      <th>TB</th>\n",
       "      <th>DB</th>\n",
       "      <th>AAP</th>\n",
       "      <th>SGPT</th>\n",
       "      <th>SGOT</th>\n",
       "      <th>TP</th>\n",
       "      <th>ALBA</th>\n",
       "      <th>AGR</th>\n",
       "      <th>Result</th>\n",
       "    </tr>\n",
       "  </thead>\n",
       "  <tbody>\n",
       "    <tr>\n",
       "      <th>0</th>\n",
       "      <td>65.0</td>\n",
       "      <td>Female</td>\n",
       "      <td>0.7</td>\n",
       "      <td>0.1</td>\n",
       "      <td>187.0</td>\n",
       "      <td>16.000000</td>\n",
       "      <td>18.0</td>\n",
       "      <td>6.8</td>\n",
       "      <td>3.3</td>\n",
       "      <td>0.90</td>\n",
       "      <td>1</td>\n",
       "    </tr>\n",
       "    <tr>\n",
       "      <th>1</th>\n",
       "      <td>62.0</td>\n",
       "      <td>Male</td>\n",
       "      <td>10.9</td>\n",
       "      <td>5.5</td>\n",
       "      <td>699.0</td>\n",
       "      <td>64.000000</td>\n",
       "      <td>100.0</td>\n",
       "      <td>7.5</td>\n",
       "      <td>3.2</td>\n",
       "      <td>0.74</td>\n",
       "      <td>1</td>\n",
       "    </tr>\n",
       "    <tr>\n",
       "      <th>2</th>\n",
       "      <td>62.0</td>\n",
       "      <td>Male</td>\n",
       "      <td>7.3</td>\n",
       "      <td>4.1</td>\n",
       "      <td>490.0</td>\n",
       "      <td>60.000000</td>\n",
       "      <td>68.0</td>\n",
       "      <td>7.0</td>\n",
       "      <td>3.3</td>\n",
       "      <td>0.89</td>\n",
       "      <td>1</td>\n",
       "    </tr>\n",
       "    <tr>\n",
       "      <th>3</th>\n",
       "      <td>58.0</td>\n",
       "      <td>Male</td>\n",
       "      <td>1.0</td>\n",
       "      <td>0.4</td>\n",
       "      <td>182.0</td>\n",
       "      <td>14.000000</td>\n",
       "      <td>20.0</td>\n",
       "      <td>6.8</td>\n",
       "      <td>3.4</td>\n",
       "      <td>1.00</td>\n",
       "      <td>1</td>\n",
       "    </tr>\n",
       "    <tr>\n",
       "      <th>4</th>\n",
       "      <td>72.0</td>\n",
       "      <td>Male</td>\n",
       "      <td>3.9</td>\n",
       "      <td>2.0</td>\n",
       "      <td>195.0</td>\n",
       "      <td>27.000000</td>\n",
       "      <td>59.0</td>\n",
       "      <td>7.3</td>\n",
       "      <td>2.4</td>\n",
       "      <td>0.40</td>\n",
       "      <td>1</td>\n",
       "    </tr>\n",
       "    <tr>\n",
       "      <th>5</th>\n",
       "      <td>46.0</td>\n",
       "      <td>Male</td>\n",
       "      <td>1.8</td>\n",
       "      <td>0.7</td>\n",
       "      <td>208.0</td>\n",
       "      <td>19.000000</td>\n",
       "      <td>14.0</td>\n",
       "      <td>7.6</td>\n",
       "      <td>4.4</td>\n",
       "      <td>1.30</td>\n",
       "      <td>1</td>\n",
       "    </tr>\n",
       "    <tr>\n",
       "      <th>6</th>\n",
       "      <td>26.0</td>\n",
       "      <td>Female</td>\n",
       "      <td>0.9</td>\n",
       "      <td>0.2</td>\n",
       "      <td>154.0</td>\n",
       "      <td>80.598762</td>\n",
       "      <td>12.0</td>\n",
       "      <td>7.0</td>\n",
       "      <td>3.5</td>\n",
       "      <td>1.00</td>\n",
       "      <td>1</td>\n",
       "    </tr>\n",
       "    <tr>\n",
       "      <th>7</th>\n",
       "      <td>29.0</td>\n",
       "      <td>Female</td>\n",
       "      <td>0.9</td>\n",
       "      <td>0.3</td>\n",
       "      <td>202.0</td>\n",
       "      <td>14.000000</td>\n",
       "      <td>11.0</td>\n",
       "      <td>6.7</td>\n",
       "      <td>3.6</td>\n",
       "      <td>1.10</td>\n",
       "      <td>1</td>\n",
       "    </tr>\n",
       "    <tr>\n",
       "      <th>8</th>\n",
       "      <td>17.0</td>\n",
       "      <td>Male</td>\n",
       "      <td>0.9</td>\n",
       "      <td>0.3</td>\n",
       "      <td>202.0</td>\n",
       "      <td>22.000000</td>\n",
       "      <td>19.0</td>\n",
       "      <td>7.4</td>\n",
       "      <td>4.1</td>\n",
       "      <td>1.20</td>\n",
       "      <td>0</td>\n",
       "    </tr>\n",
       "    <tr>\n",
       "      <th>9</th>\n",
       "      <td>55.0</td>\n",
       "      <td>Male</td>\n",
       "      <td>0.7</td>\n",
       "      <td>0.2</td>\n",
       "      <td>290.0</td>\n",
       "      <td>53.000000</td>\n",
       "      <td>58.0</td>\n",
       "      <td>6.8</td>\n",
       "      <td>3.4</td>\n",
       "      <td>1.00</td>\n",
       "      <td>1</td>\n",
       "    </tr>\n",
       "  </tbody>\n",
       "</table>\n",
       "</div>"
      ],
      "text/plain": [
       "    AGE     GEN    TB   DB    AAP       SGPT   SGOT   TP  ALBA   AGR  Result\n",
       "0  65.0  Female   0.7  0.1  187.0  16.000000   18.0  6.8   3.3  0.90       1\n",
       "1  62.0    Male  10.9  5.5  699.0  64.000000  100.0  7.5   3.2  0.74       1\n",
       "2  62.0    Male   7.3  4.1  490.0  60.000000   68.0  7.0   3.3  0.89       1\n",
       "3  58.0    Male   1.0  0.4  182.0  14.000000   20.0  6.8   3.4  1.00       1\n",
       "4  72.0    Male   3.9  2.0  195.0  27.000000   59.0  7.3   2.4  0.40       1\n",
       "5  46.0    Male   1.8  0.7  208.0  19.000000   14.0  7.6   4.4  1.30       1\n",
       "6  26.0  Female   0.9  0.2  154.0  80.598762   12.0  7.0   3.5  1.00       1\n",
       "7  29.0  Female   0.9  0.3  202.0  14.000000   11.0  6.7   3.6  1.10       1\n",
       "8  17.0    Male   0.9  0.3  202.0  22.000000   19.0  7.4   4.1  1.20       0\n",
       "9  55.0    Male   0.7  0.2  290.0  53.000000   58.0  6.8   3.4  1.00       1"
      ]
     },
     "execution_count": 24,
     "metadata": {},
     "output_type": "execute_result"
    }
   ],
   "source": [
    "df.head(10)"
   ]
  },
  {
   "cell_type": "code",
   "execution_count": 25,
   "id": "13f8baa1-b0dd-436e-a32c-2ef867ada0e5",
   "metadata": {},
   "outputs": [
    {
     "data": {
      "text/plain": [
       "(18572, 11)"
      ]
     },
     "execution_count": 25,
     "metadata": {},
     "output_type": "execute_result"
    }
   ],
   "source": [
    "df.shape"
   ]
  },
  {
   "cell_type": "code",
   "execution_count": 26,
   "id": "9fac24de-e84c-4d31-a547-cddc556b2246",
   "metadata": {},
   "outputs": [
    {
     "data": {
      "text/plain": [
       "Result\n",
       "1    13262\n",
       "0     5310\n",
       "Name: count, dtype: int64"
      ]
     },
     "execution_count": 26,
     "metadata": {},
     "output_type": "execute_result"
    }
   ],
   "source": [
    "df.Result.value_counts()"
   ]
  },
  {
   "cell_type": "code",
   "execution_count": 27,
   "id": "fdf8749f-e56c-4dad-85a8-5f551656c02c",
   "metadata": {},
   "outputs": [],
   "source": [
    "# for categorical data (Gender) encode 1 for Male and 0 for Female\n",
    "enc=LabelEncoder()\n",
    "df['GEN']=enc.fit_transform(df['GEN'])"
   ]
  },
  {
   "cell_type": "code",
   "execution_count": 28,
   "id": "081a4d97-d9d3-48d1-969f-1d2ef846f379",
   "metadata": {},
   "outputs": [
    {
     "name": "stdout",
     "output_type": "stream",
     "text": [
      "AGE : 78\n",
      "GEN : 2\n",
      "TB : 114\n",
      "DB : 81\n",
      "AAP : 264\n",
      "SGPT : 153\n",
      "SGOT : 178\n",
      "TP : 59\n",
      "ALBA : 41\n",
      "AGR : 70\n",
      "Result : 2\n"
     ]
    }
   ],
   "source": [
    "for feature in df.columns:\n",
    "    print(feature,\":\", len(df[feature].unique()))"
   ]
  },
  {
   "cell_type": "code",
   "execution_count": 29,
   "id": "2198d999-391b-488b-a89a-ed86133a63b8",
   "metadata": {},
   "outputs": [
    {
     "name": "stdout",
     "output_type": "stream",
     "text": [
      "[0 1]\n"
     ]
    }
   ],
   "source": [
    "print(df['GEN'].unique());"
   ]
  },
  {
   "cell_type": "code",
   "execution_count": 30,
   "id": "8c9ae69d-c951-4f4f-b137-8e2d76196faa",
   "metadata": {},
   "outputs": [
    {
     "name": "stdout",
     "output_type": "stream",
     "text": [
      "Column: AGE\n",
      "Q1 (First Quartile): 32.0\n",
      "Q3 (Third Quartile): 55.0\n",
      "IQR (Interquartile Range): 23.0\n",
      "Box Plot Minimum: -2.5\n",
      "Box Plot Maximum: 89.5\n",
      "--------------------------\n",
      "Column: TB\n",
      "Q1 (First Quartile): 0.8\n",
      "Q3 (Third Quartile): 2.7\n",
      "IQR (Interquartile Range): 1.9000000000000001\n",
      "Box Plot Minimum: -2.05\n",
      "Box Plot Maximum: 5.550000000000001\n",
      "--------------------------\n",
      "Column: DB\n",
      "Q1 (First Quartile): 0.2\n",
      "Q3 (Third Quartile): 1.4\n",
      "IQR (Interquartile Range): 1.2\n",
      "Box Plot Minimum: -1.5999999999999999\n",
      "Box Plot Maximum: 3.1999999999999997\n",
      "--------------------------\n",
      "Column: AAP\n",
      "Q1 (First Quartile): 177.0\n",
      "Q3 (Third Quartile): 293.0\n",
      "IQR (Interquartile Range): 116.0\n",
      "Box Plot Minimum: 3.0\n",
      "Box Plot Maximum: 467.0\n",
      "--------------------------\n",
      "Column: SGPT\n",
      "Q1 (First Quartile): 23.0\n",
      "Q3 (Third Quartile): 64.0\n",
      "IQR (Interquartile Range): 41.0\n",
      "Box Plot Minimum: -38.5\n",
      "Box Plot Maximum: 125.5\n",
      "--------------------------\n",
      "Column: SGOT\n",
      "Q1 (First Quartile): 26.0\n",
      "Q3 (Third Quartile): 90.0\n",
      "IQR (Interquartile Range): 64.0\n",
      "Box Plot Minimum: -70.0\n",
      "Box Plot Maximum: 186.0\n",
      "--------------------------\n",
      "Column: TP\n",
      "Q1 (First Quartile): 5.8\n",
      "Q3 (Third Quartile): 7.2\n",
      "IQR (Interquartile Range): 1.4000000000000004\n",
      "Box Plot Minimum: 3.6999999999999993\n",
      "Box Plot Maximum: 9.3\n",
      "--------------------------\n",
      "Column: ALBA\n",
      "Q1 (First Quartile): 2.6\n",
      "Q3 (Third Quartile): 3.8\n",
      "IQR (Interquartile Range): 1.1999999999999997\n",
      "Box Plot Minimum: 0.8000000000000005\n",
      "Box Plot Maximum: 5.6\n",
      "--------------------------\n",
      "Column: AGR\n",
      "Q1 (First Quartile): 0.7\n",
      "Q3 (Third Quartile): 1.1\n",
      "IQR (Interquartile Range): 0.40000000000000013\n",
      "Box Plot Minimum: 0.09999999999999976\n",
      "Box Plot Maximum: 1.7000000000000002\n",
      "--------------------------\n"
     ]
    }
   ],
   "source": [
    "\n",
    "\n",
    "# Iterate through each column\n",
    "for column in  num_cols:\n",
    "    # Calculate quartiles and IQR\n",
    "    q1 = df[column].quantile(0.25)\n",
    "    q3 = df[column].quantile(0.75)\n",
    "    iqr = q3 - q1\n",
    "    \n",
    "    # Calculate box plot boundaries\n",
    "    box_min = q1 - (1.5 * iqr)\n",
    "    box_max = q3 + (1.5 * iqr)\n",
    "    \n",
    "    # Display results\n",
    "    print(f\"Column: {column}\")\n",
    "    print(f\"Q1 (First Quartile): {q1}\")\n",
    "    print(f\"Q3 (Third Quartile): {q3}\")\n",
    "    print(f\"IQR (Interquartile Range): {iqr}\")\n",
    "    print(f\"Box Plot Minimum: {box_min}\")\n",
    "    print(f\"Box Plot Maximum: {box_max}\")\n",
    "    print(\"--------------------------\")\n"
   ]
  },
  {
   "cell_type": "code",
   "execution_count": 31,
   "id": "dd190813-a38e-4e80-a5ae-327068fdbba3",
   "metadata": {},
   "outputs": [],
   "source": [
    "for col in num_cols:\n",
    "    Q1, Q3 = df.loc[:,col].quantile([0.25,0.75]).values\n",
    "    IQR = Q3-Q1\n",
    "    box_max = Q3+(1.5*IQR)\n",
    "    box_min = Q1-(1.5*IQR)\n",
    "    df.loc[df[col]<box_min, col] = np.NaN\n",
    "    df.loc[df[col]>box_max, col] = np.NaN\n",
    "\n",
    "    "
   ]
  },
  {
   "cell_type": "code",
   "execution_count": 32,
   "id": "5625cd2a-6bf4-420e-8961-61eeb30e97e1",
   "metadata": {},
   "outputs": [
    {
     "data": {
      "text/plain": [
       "TB        2637\n",
       "DB        2413\n",
       "AAP       2201\n",
       "SGPT      2119\n",
       "SGOT      2032\n",
       "AGR        332\n",
       "TP         249\n",
       "AGE         49\n",
       "GEN          0\n",
       "ALBA         0\n",
       "Result       0\n",
       "dtype: int64"
      ]
     },
     "execution_count": 32,
     "metadata": {},
     "output_type": "execute_result"
    }
   ],
   "source": [
    "df.isna().sum().sort_values(ascending=False)"
   ]
  },
  {
   "cell_type": "code",
   "execution_count": 33,
   "id": "a6f9e928-2d14-4edb-b543-7cd08feb671f",
   "metadata": {},
   "outputs": [],
   "source": [
    "df.dropna(inplace=True)"
   ]
  },
  {
   "cell_type": "code",
   "execution_count": 34,
   "id": "e1ac7976-7dd2-4584-a0ad-bc974c83ea31",
   "metadata": {},
   "outputs": [
    {
     "data": {
      "text/plain": [
       "AGE       0\n",
       "GEN       0\n",
       "TB        0\n",
       "DB        0\n",
       "AAP       0\n",
       "SGPT      0\n",
       "SGOT      0\n",
       "TP        0\n",
       "ALBA      0\n",
       "AGR       0\n",
       "Result    0\n",
       "dtype: int64"
      ]
     },
     "execution_count": 34,
     "metadata": {},
     "output_type": "execute_result"
    }
   ],
   "source": [
    "df.isna().sum().sort_values(ascending=False)"
   ]
  },
  {
   "cell_type": "code",
   "execution_count": 35,
   "id": "20fb5f00-ac2a-4cff-b04b-78576bcd063c",
   "metadata": {},
   "outputs": [
    {
     "data": {
      "text/html": [
       "<div>\n",
       "<style scoped>\n",
       "    .dataframe tbody tr th:only-of-type {\n",
       "        vertical-align: middle;\n",
       "    }\n",
       "\n",
       "    .dataframe tbody tr th {\n",
       "        vertical-align: top;\n",
       "    }\n",
       "\n",
       "    .dataframe thead th {\n",
       "        text-align: right;\n",
       "    }\n",
       "</style>\n",
       "<table border=\"1\" class=\"dataframe\">\n",
       "  <thead>\n",
       "    <tr style=\"text-align: right;\">\n",
       "      <th></th>\n",
       "      <th>AGE</th>\n",
       "      <th>GEN</th>\n",
       "      <th>TB</th>\n",
       "      <th>DB</th>\n",
       "      <th>AAP</th>\n",
       "      <th>SGPT</th>\n",
       "      <th>SGOT</th>\n",
       "      <th>TP</th>\n",
       "      <th>ALBA</th>\n",
       "      <th>AGR</th>\n",
       "      <th>Result</th>\n",
       "    </tr>\n",
       "  </thead>\n",
       "  <tbody>\n",
       "    <tr>\n",
       "      <th>count</th>\n",
       "      <td>12636.000000</td>\n",
       "      <td>12636.000000</td>\n",
       "      <td>12636.000000</td>\n",
       "      <td>12636.000000</td>\n",
       "      <td>12636.000000</td>\n",
       "      <td>12636.000000</td>\n",
       "      <td>12636.000000</td>\n",
       "      <td>12636.000000</td>\n",
       "      <td>12636.000000</td>\n",
       "      <td>12636.000000</td>\n",
       "      <td>12636.000000</td>\n",
       "    </tr>\n",
       "    <tr>\n",
       "      <th>mean</th>\n",
       "      <td>43.751978</td>\n",
       "      <td>0.698560</td>\n",
       "      <td>1.270811</td>\n",
       "      <td>0.482303</td>\n",
       "      <td>211.000460</td>\n",
       "      <td>34.972398</td>\n",
       "      <td>43.249744</td>\n",
       "      <td>6.539253</td>\n",
       "      <td>3.251462</td>\n",
       "      <td>0.978318</td>\n",
       "      <td>0.613564</td>\n",
       "    </tr>\n",
       "    <tr>\n",
       "      <th>std</th>\n",
       "      <td>16.293928</td>\n",
       "      <td>0.458902</td>\n",
       "      <td>0.903940</td>\n",
       "      <td>0.512003</td>\n",
       "      <td>66.470435</td>\n",
       "      <td>20.113222</td>\n",
       "      <td>31.282708</td>\n",
       "      <td>1.031403</td>\n",
       "      <td>0.747841</td>\n",
       "      <td>0.265153</td>\n",
       "      <td>0.486952</td>\n",
       "    </tr>\n",
       "    <tr>\n",
       "      <th>min</th>\n",
       "      <td>4.000000</td>\n",
       "      <td>0.000000</td>\n",
       "      <td>0.400000</td>\n",
       "      <td>0.100000</td>\n",
       "      <td>63.000000</td>\n",
       "      <td>10.000000</td>\n",
       "      <td>10.000000</td>\n",
       "      <td>3.700000</td>\n",
       "      <td>1.400000</td>\n",
       "      <td>0.350000</td>\n",
       "      <td>0.000000</td>\n",
       "    </tr>\n",
       "    <tr>\n",
       "      <th>25%</th>\n",
       "      <td>32.000000</td>\n",
       "      <td>0.000000</td>\n",
       "      <td>0.700000</td>\n",
       "      <td>0.200000</td>\n",
       "      <td>165.000000</td>\n",
       "      <td>21.000000</td>\n",
       "      <td>23.000000</td>\n",
       "      <td>5.900000</td>\n",
       "      <td>2.700000</td>\n",
       "      <td>0.800000</td>\n",
       "      <td>0.000000</td>\n",
       "    </tr>\n",
       "    <tr>\n",
       "      <th>50%</th>\n",
       "      <td>45.000000</td>\n",
       "      <td>1.000000</td>\n",
       "      <td>0.900000</td>\n",
       "      <td>0.200000</td>\n",
       "      <td>195.000000</td>\n",
       "      <td>29.000000</td>\n",
       "      <td>32.000000</td>\n",
       "      <td>6.600000</td>\n",
       "      <td>3.200000</td>\n",
       "      <td>1.000000</td>\n",
       "      <td>1.000000</td>\n",
       "    </tr>\n",
       "    <tr>\n",
       "      <th>75%</th>\n",
       "      <td>55.000000</td>\n",
       "      <td>1.000000</td>\n",
       "      <td>1.400000</td>\n",
       "      <td>0.600000</td>\n",
       "      <td>240.000000</td>\n",
       "      <td>44.000000</td>\n",
       "      <td>54.000000</td>\n",
       "      <td>7.200000</td>\n",
       "      <td>3.900000</td>\n",
       "      <td>1.100000</td>\n",
       "      <td>1.000000</td>\n",
       "    </tr>\n",
       "    <tr>\n",
       "      <th>max</th>\n",
       "      <td>89.000000</td>\n",
       "      <td>1.000000</td>\n",
       "      <td>5.300000</td>\n",
       "      <td>2.900000</td>\n",
       "      <td>462.000000</td>\n",
       "      <td>123.000000</td>\n",
       "      <td>181.000000</td>\n",
       "      <td>9.200000</td>\n",
       "      <td>5.500000</td>\n",
       "      <td>1.700000</td>\n",
       "      <td>1.000000</td>\n",
       "    </tr>\n",
       "  </tbody>\n",
       "</table>\n",
       "</div>"
      ],
      "text/plain": [
       "                AGE           GEN            TB            DB           AAP  \\\n",
       "count  12636.000000  12636.000000  12636.000000  12636.000000  12636.000000   \n",
       "mean      43.751978      0.698560      1.270811      0.482303    211.000460   \n",
       "std       16.293928      0.458902      0.903940      0.512003     66.470435   \n",
       "min        4.000000      0.000000      0.400000      0.100000     63.000000   \n",
       "25%       32.000000      0.000000      0.700000      0.200000    165.000000   \n",
       "50%       45.000000      1.000000      0.900000      0.200000    195.000000   \n",
       "75%       55.000000      1.000000      1.400000      0.600000    240.000000   \n",
       "max       89.000000      1.000000      5.300000      2.900000    462.000000   \n",
       "\n",
       "               SGPT          SGOT            TP          ALBA           AGR  \\\n",
       "count  12636.000000  12636.000000  12636.000000  12636.000000  12636.000000   \n",
       "mean      34.972398     43.249744      6.539253      3.251462      0.978318   \n",
       "std       20.113222     31.282708      1.031403      0.747841      0.265153   \n",
       "min       10.000000     10.000000      3.700000      1.400000      0.350000   \n",
       "25%       21.000000     23.000000      5.900000      2.700000      0.800000   \n",
       "50%       29.000000     32.000000      6.600000      3.200000      1.000000   \n",
       "75%       44.000000     54.000000      7.200000      3.900000      1.100000   \n",
       "max      123.000000    181.000000      9.200000      5.500000      1.700000   \n",
       "\n",
       "             Result  \n",
       "count  12636.000000  \n",
       "mean       0.613564  \n",
       "std        0.486952  \n",
       "min        0.000000  \n",
       "25%        0.000000  \n",
       "50%        1.000000  \n",
       "75%        1.000000  \n",
       "max        1.000000  "
      ]
     },
     "execution_count": 35,
     "metadata": {},
     "output_type": "execute_result"
    }
   ],
   "source": [
    "df.describe()"
   ]
  },
  {
   "cell_type": "code",
   "execution_count": 36,
   "id": "2a650087-b1c7-4783-ac6b-ab5d93361941",
   "metadata": {},
   "outputs": [
    {
     "data": {
      "text/plain": [
       "Result\n",
       "1    7753\n",
       "0    4883\n",
       "Name: count, dtype: int64"
      ]
     },
     "execution_count": 36,
     "metadata": {},
     "output_type": "execute_result"
    }
   ],
   "source": [
    "df.Result.value_counts()"
   ]
  },
  {
   "cell_type": "code",
   "execution_count": 37,
   "id": "cd025e75-9bbf-41cc-9141-7d464cfd150d",
   "metadata": {},
   "outputs": [
    {
     "data": {
      "text/plain": [
       "(12636, 11)"
      ]
     },
     "execution_count": 37,
     "metadata": {},
     "output_type": "execute_result"
    }
   ],
   "source": [
    "df.shape"
   ]
  },
  {
   "cell_type": "code",
   "execution_count": 38,
   "id": "4de3ad18-fadc-4969-b39a-e968cf3ae261",
   "metadata": {},
   "outputs": [
    {
     "data": {
      "image/png": "[encoded data removed]",
      "text/plain": [
       "<Figure size 600x400 with 1 Axes>"
      ]
     },
     "metadata": {},
     "output_type": "display_data"
    }
   ],
   "source": [
    "sns.set(style=\"darkgrid\")\n",
    "plt.figure(figsize=(6, 4))  # Adjust the figure size if needed\n",
    "sns.countplot(x='Result', data=df, palette='pastel')\n",
    "plt.title('Distribution of Result')\n",
    "plt.xlabel('Result')\n",
    "plt.ylabel('Count')\n",
    "plt.show()"
   ]
  },
  {
   "cell_type": "code",
   "execution_count": 39,
   "id": "39da46a1-6ba3-4b24-9eeb-19ed504f3ba7",
   "metadata": {},
   "outputs": [
    {
     "data": {
      "text/html": [
       "<div>\n",
       "<style scoped>\n",
       "    .dataframe tbody tr th:only-of-type {\n",
       "        vertical-align: middle;\n",
       "    }\n",
       "\n",
       "    .dataframe tbody tr th {\n",
       "        vertical-align: top;\n",
       "    }\n",
       "\n",
       "    .dataframe thead th {\n",
       "        text-align: right;\n",
       "    }\n",
       "</style>\n",
       "<table border=\"1\" class=\"dataframe\">\n",
       "  <thead>\n",
       "    <tr style=\"text-align: right;\">\n",
       "      <th></th>\n",
       "      <th>AGE</th>\n",
       "      <th>GEN</th>\n",
       "      <th>TB</th>\n",
       "      <th>DB</th>\n",
       "      <th>AAP</th>\n",
       "      <th>SGPT</th>\n",
       "      <th>SGOT</th>\n",
       "      <th>TP</th>\n",
       "      <th>ALBA</th>\n",
       "      <th>AGR</th>\n",
       "      <th>Result</th>\n",
       "    </tr>\n",
       "  </thead>\n",
       "  <tbody>\n",
       "    <tr>\n",
       "      <th>0</th>\n",
       "      <td>65.0</td>\n",
       "      <td>0</td>\n",
       "      <td>0.7</td>\n",
       "      <td>0.1</td>\n",
       "      <td>187.0</td>\n",
       "      <td>16.000000</td>\n",
       "      <td>18.0</td>\n",
       "      <td>6.8</td>\n",
       "      <td>3.3</td>\n",
       "      <td>0.9</td>\n",
       "      <td>1</td>\n",
       "    </tr>\n",
       "    <tr>\n",
       "      <th>3</th>\n",
       "      <td>58.0</td>\n",
       "      <td>1</td>\n",
       "      <td>1.0</td>\n",
       "      <td>0.4</td>\n",
       "      <td>182.0</td>\n",
       "      <td>14.000000</td>\n",
       "      <td>20.0</td>\n",
       "      <td>6.8</td>\n",
       "      <td>3.4</td>\n",
       "      <td>1.0</td>\n",
       "      <td>1</td>\n",
       "    </tr>\n",
       "    <tr>\n",
       "      <th>4</th>\n",
       "      <td>72.0</td>\n",
       "      <td>1</td>\n",
       "      <td>3.9</td>\n",
       "      <td>2.0</td>\n",
       "      <td>195.0</td>\n",
       "      <td>27.000000</td>\n",
       "      <td>59.0</td>\n",
       "      <td>7.3</td>\n",
       "      <td>2.4</td>\n",
       "      <td>0.4</td>\n",
       "      <td>1</td>\n",
       "    </tr>\n",
       "    <tr>\n",
       "      <th>5</th>\n",
       "      <td>46.0</td>\n",
       "      <td>1</td>\n",
       "      <td>1.8</td>\n",
       "      <td>0.7</td>\n",
       "      <td>208.0</td>\n",
       "      <td>19.000000</td>\n",
       "      <td>14.0</td>\n",
       "      <td>7.6</td>\n",
       "      <td>4.4</td>\n",
       "      <td>1.3</td>\n",
       "      <td>1</td>\n",
       "    </tr>\n",
       "    <tr>\n",
       "      <th>6</th>\n",
       "      <td>26.0</td>\n",
       "      <td>0</td>\n",
       "      <td>0.9</td>\n",
       "      <td>0.2</td>\n",
       "      <td>154.0</td>\n",
       "      <td>80.598762</td>\n",
       "      <td>12.0</td>\n",
       "      <td>7.0</td>\n",
       "      <td>3.5</td>\n",
       "      <td>1.0</td>\n",
       "      <td>1</td>\n",
       "    </tr>\n",
       "    <tr>\n",
       "      <th>7</th>\n",
       "      <td>29.0</td>\n",
       "      <td>0</td>\n",
       "      <td>0.9</td>\n",
       "      <td>0.3</td>\n",
       "      <td>202.0</td>\n",
       "      <td>14.000000</td>\n",
       "      <td>11.0</td>\n",
       "      <td>6.7</td>\n",
       "      <td>3.6</td>\n",
       "      <td>1.1</td>\n",
       "      <td>1</td>\n",
       "    </tr>\n",
       "    <tr>\n",
       "      <th>8</th>\n",
       "      <td>17.0</td>\n",
       "      <td>1</td>\n",
       "      <td>0.9</td>\n",
       "      <td>0.3</td>\n",
       "      <td>202.0</td>\n",
       "      <td>22.000000</td>\n",
       "      <td>19.0</td>\n",
       "      <td>7.4</td>\n",
       "      <td>4.1</td>\n",
       "      <td>1.2</td>\n",
       "      <td>0</td>\n",
       "    </tr>\n",
       "    <tr>\n",
       "      <th>9</th>\n",
       "      <td>55.0</td>\n",
       "      <td>1</td>\n",
       "      <td>0.7</td>\n",
       "      <td>0.2</td>\n",
       "      <td>290.0</td>\n",
       "      <td>53.000000</td>\n",
       "      <td>58.0</td>\n",
       "      <td>6.8</td>\n",
       "      <td>3.4</td>\n",
       "      <td>1.0</td>\n",
       "      <td>1</td>\n",
       "    </tr>\n",
       "    <tr>\n",
       "      <th>10</th>\n",
       "      <td>57.0</td>\n",
       "      <td>1</td>\n",
       "      <td>0.6</td>\n",
       "      <td>0.1</td>\n",
       "      <td>210.0</td>\n",
       "      <td>51.000000</td>\n",
       "      <td>59.0</td>\n",
       "      <td>5.9</td>\n",
       "      <td>2.7</td>\n",
       "      <td>0.8</td>\n",
       "      <td>1</td>\n",
       "    </tr>\n",
       "    <tr>\n",
       "      <th>11</th>\n",
       "      <td>72.0</td>\n",
       "      <td>1</td>\n",
       "      <td>2.7</td>\n",
       "      <td>1.3</td>\n",
       "      <td>260.0</td>\n",
       "      <td>31.000000</td>\n",
       "      <td>56.0</td>\n",
       "      <td>7.4</td>\n",
       "      <td>3.0</td>\n",
       "      <td>0.6</td>\n",
       "      <td>1</td>\n",
       "    </tr>\n",
       "  </tbody>\n",
       "</table>\n",
       "</div>"
      ],
      "text/plain": [
       "     AGE  GEN   TB   DB    AAP       SGPT  SGOT   TP  ALBA  AGR  Result\n",
       "0   65.0    0  0.7  0.1  187.0  16.000000  18.0  6.8   3.3  0.9       1\n",
       "3   58.0    1  1.0  0.4  182.0  14.000000  20.0  6.8   3.4  1.0       1\n",
       "4   72.0    1  3.9  2.0  195.0  27.000000  59.0  7.3   2.4  0.4       1\n",
       "5   46.0    1  1.8  0.7  208.0  19.000000  14.0  7.6   4.4  1.3       1\n",
       "6   26.0    0  0.9  0.2  154.0  80.598762  12.0  7.0   3.5  1.0       1\n",
       "7   29.0    0  0.9  0.3  202.0  14.000000  11.0  6.7   3.6  1.1       1\n",
       "8   17.0    1  0.9  0.3  202.0  22.000000  19.0  7.4   4.1  1.2       0\n",
       "9   55.0    1  0.7  0.2  290.0  53.000000  58.0  6.8   3.4  1.0       1\n",
       "10  57.0    1  0.6  0.1  210.0  51.000000  59.0  5.9   2.7  0.8       1\n",
       "11  72.0    1  2.7  1.3  260.0  31.000000  56.0  7.4   3.0  0.6       1"
      ]
     },
     "execution_count": 39,
     "metadata": {},
     "output_type": "execute_result"
    }
   ],
   "source": [
    "df.head(10)"
   ]
  },
  {
   "cell_type": "code",
   "execution_count": 40,
   "id": "774d90c7-7d7b-4d10-aebe-5b74c77fe4cd",
   "metadata": {},
   "outputs": [
    {
     "name": "stdout",
     "output_type": "stream",
     "text": [
      "<class 'numpy.ndarray'>\n",
      "<class 'numpy.ndarray'>\n"
     ]
    }
   ],
   "source": [
    "print(type(num_cols))\n",
    "print(type(cat_cols))"
   ]
  },
  {
   "cell_type": "code",
   "execution_count": 41,
   "id": "472e4e33-1799-45ca-8495-e6b6fbe264f4",
   "metadata": {},
   "outputs": [
    {
     "name": "stdout",
     "output_type": "stream",
     "text": [
      "<class 'pandas.core.frame.DataFrame'>\n"
     ]
    }
   ],
   "source": [
    "print(type(df))"
   ]
  },
  {
   "cell_type": "code",
   "execution_count": 42,
   "id": "3fa16711-dce4-4ded-b36f-6a6131275d64",
   "metadata": {},
   "outputs": [],
   "source": [
    "from sklearn.model_selection import StratifiedKFold\n",
    "from sklearn.preprocessing import StandardScaler"
   ]
  },
  {
   "cell_type": "code",
   "execution_count": 43,
   "id": "63d60a00-f3fb-490d-8989-15fad08659db",
   "metadata": {},
   "outputs": [],
   "source": [
    "# Separate features (X) and target (y)\n",
    "X = df.drop(['Result'], axis=1)\n",
    "y = df.Result"
   ]
  },
  {
   "cell_type": "code",
   "execution_count": 44,
   "id": "f761e610-f5ec-4fac-870b-cf6175060c14",
   "metadata": {},
   "outputs": [
    {
     "data": {
      "text/html": [
       "<div>\n",
       "<style scoped>\n",
       "    .dataframe tbody tr th:only-of-type {\n",
       "        vertical-align: middle;\n",
       "    }\n",
       "\n",
       "    .dataframe tbody tr th {\n",
       "        vertical-align: top;\n",
       "    }\n",
       "\n",
       "    .dataframe thead th {\n",
       "        text-align: right;\n",
       "    }\n",
       "</style>\n",
       "<table border=\"1\" class=\"dataframe\">\n",
       "  <thead>\n",
       "    <tr style=\"text-align: right;\">\n",
       "      <th></th>\n",
       "      <th>AGE</th>\n",
       "      <th>GEN</th>\n",
       "      <th>TB</th>\n",
       "      <th>DB</th>\n",
       "      <th>AAP</th>\n",
       "      <th>SGPT</th>\n",
       "      <th>SGOT</th>\n",
       "      <th>TP</th>\n",
       "      <th>ALBA</th>\n",
       "      <th>AGR</th>\n",
       "    </tr>\n",
       "  </thead>\n",
       "  <tbody>\n",
       "    <tr>\n",
       "      <th>0</th>\n",
       "      <td>65.0</td>\n",
       "      <td>0</td>\n",
       "      <td>0.7</td>\n",
       "      <td>0.1</td>\n",
       "      <td>187.0</td>\n",
       "      <td>16.000000</td>\n",
       "      <td>18.0</td>\n",
       "      <td>6.8</td>\n",
       "      <td>3.3</td>\n",
       "      <td>0.9</td>\n",
       "    </tr>\n",
       "    <tr>\n",
       "      <th>3</th>\n",
       "      <td>58.0</td>\n",
       "      <td>1</td>\n",
       "      <td>1.0</td>\n",
       "      <td>0.4</td>\n",
       "      <td>182.0</td>\n",
       "      <td>14.000000</td>\n",
       "      <td>20.0</td>\n",
       "      <td>6.8</td>\n",
       "      <td>3.4</td>\n",
       "      <td>1.0</td>\n",
       "    </tr>\n",
       "    <tr>\n",
       "      <th>4</th>\n",
       "      <td>72.0</td>\n",
       "      <td>1</td>\n",
       "      <td>3.9</td>\n",
       "      <td>2.0</td>\n",
       "      <td>195.0</td>\n",
       "      <td>27.000000</td>\n",
       "      <td>59.0</td>\n",
       "      <td>7.3</td>\n",
       "      <td>2.4</td>\n",
       "      <td>0.4</td>\n",
       "    </tr>\n",
       "    <tr>\n",
       "      <th>5</th>\n",
       "      <td>46.0</td>\n",
       "      <td>1</td>\n",
       "      <td>1.8</td>\n",
       "      <td>0.7</td>\n",
       "      <td>208.0</td>\n",
       "      <td>19.000000</td>\n",
       "      <td>14.0</td>\n",
       "      <td>7.6</td>\n",
       "      <td>4.4</td>\n",
       "      <td>1.3</td>\n",
       "    </tr>\n",
       "    <tr>\n",
       "      <th>6</th>\n",
       "      <td>26.0</td>\n",
       "      <td>0</td>\n",
       "      <td>0.9</td>\n",
       "      <td>0.2</td>\n",
       "      <td>154.0</td>\n",
       "      <td>80.598762</td>\n",
       "      <td>12.0</td>\n",
       "      <td>7.0</td>\n",
       "      <td>3.5</td>\n",
       "      <td>1.0</td>\n",
       "    </tr>\n",
       "    <tr>\n",
       "      <th>...</th>\n",
       "      <td>...</td>\n",
       "      <td>...</td>\n",
       "      <td>...</td>\n",
       "      <td>...</td>\n",
       "      <td>...</td>\n",
       "      <td>...</td>\n",
       "      <td>...</td>\n",
       "      <td>...</td>\n",
       "      <td>...</td>\n",
       "      <td>...</td>\n",
       "    </tr>\n",
       "    <tr>\n",
       "      <th>29892</th>\n",
       "      <td>28.0</td>\n",
       "      <td>1</td>\n",
       "      <td>3.3</td>\n",
       "      <td>1.5</td>\n",
       "      <td>172.0</td>\n",
       "      <td>25.000000</td>\n",
       "      <td>41.0</td>\n",
       "      <td>5.6</td>\n",
       "      <td>2.4</td>\n",
       "      <td>0.7</td>\n",
       "    </tr>\n",
       "    <tr>\n",
       "      <th>29893</th>\n",
       "      <td>21.0</td>\n",
       "      <td>0</td>\n",
       "      <td>1.2</td>\n",
       "      <td>0.4</td>\n",
       "      <td>160.0</td>\n",
       "      <td>20.000000</td>\n",
       "      <td>22.0</td>\n",
       "      <td>6.2</td>\n",
       "      <td>3.0</td>\n",
       "      <td>0.9</td>\n",
       "    </tr>\n",
       "    <tr>\n",
       "      <th>29894</th>\n",
       "      <td>32.0</td>\n",
       "      <td>1</td>\n",
       "      <td>0.6</td>\n",
       "      <td>0.1</td>\n",
       "      <td>196.0</td>\n",
       "      <td>29.000000</td>\n",
       "      <td>30.0</td>\n",
       "      <td>5.8</td>\n",
       "      <td>2.9</td>\n",
       "      <td>1.0</td>\n",
       "    </tr>\n",
       "    <tr>\n",
       "      <th>29976</th>\n",
       "      <td>28.0</td>\n",
       "      <td>1</td>\n",
       "      <td>1.9</td>\n",
       "      <td>1.0</td>\n",
       "      <td>231.0</td>\n",
       "      <td>16.000000</td>\n",
       "      <td>55.0</td>\n",
       "      <td>4.3</td>\n",
       "      <td>1.6</td>\n",
       "      <td>0.6</td>\n",
       "    </tr>\n",
       "    <tr>\n",
       "      <th>30689</th>\n",
       "      <td>48.0</td>\n",
       "      <td>0</td>\n",
       "      <td>1.9</td>\n",
       "      <td>1.0</td>\n",
       "      <td>231.0</td>\n",
       "      <td>16.000000</td>\n",
       "      <td>55.0</td>\n",
       "      <td>4.3</td>\n",
       "      <td>1.6</td>\n",
       "      <td>0.6</td>\n",
       "    </tr>\n",
       "  </tbody>\n",
       "</table>\n",
       "<p>12636 rows × 10 columns</p>\n",
       "</div>"
      ],
      "text/plain": [
       "        AGE  GEN   TB   DB    AAP       SGPT  SGOT   TP  ALBA  AGR\n",
       "0      65.0    0  0.7  0.1  187.0  16.000000  18.0  6.8   3.3  0.9\n",
       "3      58.0    1  1.0  0.4  182.0  14.000000  20.0  6.8   3.4  1.0\n",
       "4      72.0    1  3.9  2.0  195.0  27.000000  59.0  7.3   2.4  0.4\n",
       "5      46.0    1  1.8  0.7  208.0  19.000000  14.0  7.6   4.4  1.3\n",
       "6      26.0    0  0.9  0.2  154.0  80.598762  12.0  7.0   3.5  1.0\n",
       "...     ...  ...  ...  ...    ...        ...   ...  ...   ...  ...\n",
       "29892  28.0    1  3.3  1.5  172.0  25.000000  41.0  5.6   2.4  0.7\n",
       "29893  21.0    0  1.2  0.4  160.0  20.000000  22.0  6.2   3.0  0.9\n",
       "29894  32.0    1  0.6  0.1  196.0  29.000000  30.0  5.8   2.9  1.0\n",
       "29976  28.0    1  1.9  1.0  231.0  16.000000  55.0  4.3   1.6  0.6\n",
       "30689  48.0    0  1.9  1.0  231.0  16.000000  55.0  4.3   1.6  0.6\n",
       "\n",
       "[12636 rows x 10 columns]"
      ]
     },
     "execution_count": 44,
     "metadata": {},
     "output_type": "execute_result"
    }
   ],
   "source": [
    "X"
   ]
  },
  {
   "cell_type": "code",
   "execution_count": 45,
   "id": "544aed12-14ff-4184-b091-d76531d25369",
   "metadata": {},
   "outputs": [
    {
     "data": {
      "text/plain": [
       "0        1\n",
       "3        1\n",
       "4        1\n",
       "5        1\n",
       "6        1\n",
       "        ..\n",
       "29892    1\n",
       "29893    0\n",
       "29894    1\n",
       "29976    1\n",
       "30689    1\n",
       "Name: Result, Length: 12636, dtype: int64"
      ]
     },
     "execution_count": 45,
     "metadata": {},
     "output_type": "execute_result"
    }
   ],
   "source": [
    "y"
   ]
  },
  {
   "cell_type": "code",
   "execution_count": 46,
   "id": "6d683877-087f-451d-81fe-5b988d3f571c",
   "metadata": {},
   "outputs": [],
   "source": [
    "# Initialize StratifiedKFold with desired number of folds or n_splits (default is 5)\n",
    "skf = StratifiedKFold(n_splits=5, shuffle=True, random_state=15)"
   ]
  },
  {
   "cell_type": "code",
   "execution_count": 47,
   "id": "8b2c4023-89c6-4dea-9149-b7f17a7ae45f",
   "metadata": {},
   "outputs": [],
   "source": [
    "# Initialize StandardScaler for numerical columns\n",
    "scaler = StandardScaler()\n"
   ]
  },
  {
   "cell_type": "code",
   "execution_count": 48,
   "id": "db88bc1c-f6ae-406c-b4a3-362232c13d01",
   "metadata": {},
   "outputs": [],
   "source": [
    "#RF with hyper parameter tunned"
   ]
  },
  {
   "cell_type": "code",
   "execution_count": 49,
   "id": "dbe60023-8515-4ec3-891f-93766ae22dce",
   "metadata": {},
   "outputs": [],
   "source": [
    "metrics = pd.DataFrame(index=['Accuracy', 'Precission', 'Recall', 'F1_score', 'ROC_AUC'])"
   ]
  },
  {
   "cell_type": "code",
   "execution_count": 50,
   "id": "25ab97a5-4c3f-4322-927b-43a78329a973",
   "metadata": {},
   "outputs": [],
   "source": [
    "confussion_matrix_list = []"
   ]
  },
  {
   "cell_type": "markdown",
   "id": "ddeb2109-bd7c-4b10-b24f-2a2130c2e226",
   "metadata": {},
   "source": [
    "## Models"
   ]
  },
  {
   "cell_type": "markdown",
   "id": "c4ac1c0c-8ad8-435b-9492-e9003143952b",
   "metadata": {},
   "source": [
    "### Random Forest"
   ]
  },
  {
   "cell_type": "code",
   "execution_count": 51,
   "id": "128ffa2c-9168-49e1-a71f-d72253455b82",
   "metadata": {},
   "outputs": [],
   "source": [
    "random_forest_best_params = {'bootstrap': True, 'criterion': 'log_loss', \n",
    "                             'max_depth': 70, 'max_features': 'log2', \n",
    "                             'n_estimators': 500}\n",
    "random_forest_best_score = 0.9997873910277993"
   ]
  },
  {
   "cell_type": "code",
   "execution_count": 52,
   "id": "3b07bf56-b3a3-4512-a888-91fadee7d23c",
   "metadata": {},
   "outputs": [],
   "source": [
    "# Random Forest\n",
    "random_forest = RandomForestClassifier(**random_forest_best_params)\n",
    "\n",
    "Accuracy = []\n",
    "Precission = []\n",
    "Recall = []\n",
    "F1_score = []\n",
    "ROC_AUC = []"
   ]
  },
  {
   "cell_type": "code",
   "execution_count": 53,
   "id": "2fa2fb48-31b9-4a3f-9927-e06c8bc254c6",
   "metadata": {},
   "outputs": [
    {
     "name": "stdout",
     "output_type": "stream",
     "text": [
      "TRAIN: [    0     1     2 ... 12633 12634 12635] TEST: [    3    13    14 ... 12619 12622 12626]\n",
      "-----------------------------------------------------------------------------------------------------\n",
      "TRAIN: [    0     1     2 ... 12631 12634 12635] TEST: [    6     8    20 ... 12630 12632 12633]\n",
      "-----------------------------------------------------------------------------------------------------\n",
      "TRAIN: [    0     1     2 ... 12632 12633 12635] TEST: [    4     9    11 ... 12603 12628 12634]\n",
      "-----------------------------------------------------------------------------------------------------\n",
      "TRAIN: [    2     3     4 ... 12633 12634 12635] TEST: [    0     1     7 ... 12615 12616 12620]\n",
      "-----------------------------------------------------------------------------------------------------\n",
      "TRAIN: [    0     1     3 ... 12632 12633 12634] TEST: [    2     5    10 ... 12627 12631 12635]\n",
      "-----------------------------------------------------------------------------------------------------\n"
     ]
    }
   ],
   "source": [
    "# Perform stratified k-fold cross-validation\n",
    "\n",
    "for train_index, test_index in skf.split(X, y):\n",
    "    print(\"TRAIN:\", train_index, \"TEST:\", test_index)\n",
    "    X_train, X_test = X.iloc[train_index], X.iloc[test_index]\n",
    "    y_train, y_test = y.iloc[train_index], y.iloc[test_index]\n",
    "\n",
    "    # Apply StandardScaler to numerical columns\n",
    "    X_train_scaled = X_train.copy()\n",
    "    X_test_scaled = X_test.copy()\n",
    "    \n",
    "    X_train_scaled[num_cols] = scaler.fit_transform(X_train[num_cols])\n",
    "    X_test_scaled[num_cols] = scaler.transform(X_test[num_cols])\n",
    "    \n",
    "    # Optionally, you can include GEN column after scaling\n",
    "    # Add scaled GEN column back to X_train_scaled and X_test_scaled\n",
    "    X_train_scaled['GEN'] = X_train['GEN']\n",
    "    X_test_scaled['GEN'] = X_test['GEN']\n",
    "    \n",
    "    # Train classifier\n",
    "    random_forest.fit(X_train_scaled, y_train)\n",
    "    \n",
    "    # Predict and evaluate\n",
    "    random_forest_y_pred = random_forest.predict(X_test_scaled)\n",
    "    random_forest_y_score = random_forest.predict_proba(X_test_scaled)[:, 1]\n",
    "\n",
    "    Accuracy.append(accuracy_score(y_test, random_forest_y_pred))\n",
    "    Precission.append(precision_score(y_test, random_forest_y_pred))\n",
    "    Recall.append(recall_score(y_test, random_forest_y_pred))\n",
    "    F1_score.append(f1_score(y_test, random_forest_y_pred))\n",
    "    ROC_AUC.append(roc_auc_score(y_test, random_forest_y_score))\n",
    "    print(\"-----------------------------------------------------------------------------------------------------\")\n",
    "confussion_matrix_list.append(y_test)\n",
    "confussion_matrix_list.append( random_forest_y_pred)\n"
   ]
  },
  {
   "cell_type": "code",
   "execution_count": 54,
   "id": "477147b9-55d1-4b38-beea-fd356758cf2e",
   "metadata": {},
   "outputs": [],
   "source": [
    "metrics[\"Random Forest\"] = [\n",
    "    np.mean(Accuracy),\n",
    "    np.mean(Precission),\n",
    "    np.mean(Recall),\n",
    "    np.mean(F1_score),\n",
    "    np.mean(ROC_AUC)\n",
    "]"
   ]
  },
  {
   "cell_type": "code",
   "execution_count": 55,
   "id": "f58c0cc2-efbb-47f1-ada1-c56434bf311d",
   "metadata": {},
   "outputs": [
    {
     "name": "stdout",
     "output_type": "stream",
     "text": [
      "Accuracy      0.993273\n",
      "Precission    0.991547\n",
      "Recall        0.997549\n",
      "F1_score      0.994536\n",
      "ROC_AUC       0.999706\n",
      "Name: Random Forest, dtype: float64\n"
     ]
    }
   ],
   "source": [
    "print(metrics[\"Random Forest\"])"
   ]
  },
  {
   "cell_type": "markdown",
   "id": "1cf8de8d-062d-4060-b2a6-b90141420ceb",
   "metadata": {},
   "source": [
    "### SVM"
   ]
  },
  {
   "cell_type": "code",
   "execution_count": 56,
   "id": "8c3a352b-fa9e-45f0-b14d-dcc876b3ce40",
   "metadata": {},
   "outputs": [],
   "source": [
    "svm_best_params = {'C': 15, 'kernel': 'rbf'}\n",
    "svm_best_score = 0.9000298490572322\n"
   ]
  },
  {
   "cell_type": "code",
   "execution_count": 57,
   "id": "96bb91ad-aa1c-4282-bf02-1d8896bf8ab6",
   "metadata": {},
   "outputs": [],
   "source": [
    "# SVM\n",
    "svm = SVC(**svm_best_params, probability=True)\n",
    "skf1 = StratifiedKFold(n_splits=5, shuffle=True, random_state=15)"
   ]
  },
  {
   "cell_type": "code",
   "execution_count": 58,
   "id": "f1170909-7b84-4520-9890-e127a3ebe93d",
   "metadata": {},
   "outputs": [
    {
     "name": "stdout",
     "output_type": "stream",
     "text": [
      "TRAIN: [    0     1     2 ... 12633 12634 12635] TEST: [    3    13    14 ... 12619 12622 12626]\n",
      "-----------------------------------------------------------------------------------------------------\n",
      "TRAIN: [    0     1     2 ... 12631 12634 12635] TEST: [    6     8    20 ... 12630 12632 12633]\n",
      "-----------------------------------------------------------------------------------------------------\n",
      "TRAIN: [    0     1     2 ... 12632 12633 12635] TEST: [    4     9    11 ... 12603 12628 12634]\n",
      "-----------------------------------------------------------------------------------------------------\n",
      "TRAIN: [    2     3     4 ... 12633 12634 12635] TEST: [    0     1     7 ... 12615 12616 12620]\n",
      "-----------------------------------------------------------------------------------------------------\n",
      "TRAIN: [    0     1     3 ... 12632 12633 12634] TEST: [    2     5    10 ... 12627 12631 12635]\n",
      "-----------------------------------------------------------------------------------------------------\n"
     ]
    }
   ],
   "source": [
    "# Perform stratified k-fold cross-validation\n",
    "for train_index, test_index in skf1.split(X, y):\n",
    "    print(\"TRAIN:\", train_index, \"TEST:\", test_index)\n",
    "    X_train, X_test = X.iloc[train_index], X.iloc[test_index]\n",
    "    y_train, y_test = y.iloc[train_index], y.iloc[test_index]\n",
    "\n",
    "    # Apply StandardScaler to numerical columns\n",
    "    X_train_scaled = X_train.copy()\n",
    "    X_test_scaled = X_test.copy()\n",
    "    \n",
    "    X_train_scaled[num_cols] = scaler.fit_transform(X_train[num_cols])\n",
    "    X_test_scaled[num_cols] = scaler.transform(X_test[num_cols])\n",
    "    \n",
    "    # Optionally, you can include GEN column after scaling\n",
    "    # Add scaled GEN column back to X_train_scaled and X_test_scaled\n",
    "    X_train_scaled['GEN'] = X_train['GEN']\n",
    "    X_test_scaled['GEN'] = X_test['GEN']\n",
    "    \n",
    "    # Train classifier\n",
    "    svm.fit(X_train_scaled, y_train)\n",
    "\n",
    "    # Predict and evaluate\n",
    "    svm_y_pred = svm.predict(X_test_scaled)\n",
    "    svm_y_score = svm.predict_proba(X_test_scaled)[:, 1]\n",
    "    \n",
    "    Accuracy.append(accuracy_score(y_test, svm_y_pred))\n",
    "    Precission.append(precision_score(y_test, svm_y_pred))\n",
    "    Recall.append(recall_score(y_test, svm_y_pred))\n",
    "    F1_score.append(f1_score(y_test, svm_y_pred))\n",
    "    ROC_AUC.append(roc_auc_score(y_test, svm_y_score))\n",
    "    print(\"-----------------------------------------------------------------------------------------------------\")\n",
    "    \n",
    "confussion_matrix_list.append(y_test)\n",
    "confussion_matrix_list.append(svm_y_pred)\n"
   ]
  },
  {
   "cell_type": "code",
   "execution_count": 59,
   "id": "0c8cd10f-ccfe-4b7f-9773-44ca883b7c11",
   "metadata": {},
   "outputs": [],
   "source": [
    "metrics[\"SVM\"] = [\n",
    "    np.mean(Accuracy),\n",
    "    np.mean(Precission),\n",
    "    np.mean(Recall),\n",
    "    np.mean(F1_score),\n",
    "    np.mean(ROC_AUC)\n",
    "]"
   ]
  },
  {
   "cell_type": "code",
   "execution_count": 60,
   "id": "82317a70-fbe6-464f-a4c8-2998e3c14a36",
   "metadata": {},
   "outputs": [
    {
     "name": "stdout",
     "output_type": "stream",
     "text": [
      "Accuracy      0.907012\n",
      "Precission    0.913348\n",
      "Recall        0.939766\n",
      "F1_score      0.926223\n",
      "ROC_AUC       0.953693\n",
      "Name: SVM, dtype: float64\n"
     ]
    }
   ],
   "source": [
    "print(metrics[\"SVM\"])"
   ]
  },
  {
   "cell_type": "markdown",
   "id": "44d1b939-3235-480d-9f3d-3f9a51aae0d6",
   "metadata": {},
   "source": [
    "### Logistic Regression"
   ]
  },
  {
   "cell_type": "code",
   "execution_count": 61,
   "id": "48d84b3e-9bfa-42eb-beea-8c9c82429382",
   "metadata": {},
   "outputs": [],
   "source": [
    "lr_best_params = {'C': 1000.0, 'l1_ratio': 0.1, 'max_iter': 850, 'penalty': 'elasticnet', 'solver': 'saga'}\n",
    "lr_best_score = 0.6462995456766315\n"
   ]
  },
  {
   "cell_type": "code",
   "execution_count": 62,
   "id": "8a44274e-13d3-46fd-b728-fd056e16d03b",
   "metadata": {},
   "outputs": [
    {
     "name": "stdout",
     "output_type": "stream",
     "text": [
      "TRAIN: [    0     1     2 ... 12633 12634 12635] TEST: [    3    13    14 ... 12619 12622 12626]\n",
      "-----------------------------------------------------------------------------------------------------\n",
      "TRAIN: [    0     1     2 ... 12631 12634 12635] TEST: [    6     8    20 ... 12630 12632 12633]\n",
      "-----------------------------------------------------------------------------------------------------\n",
      "TRAIN: [    0     1     2 ... 12632 12633 12635] TEST: [    4     9    11 ... 12603 12628 12634]\n",
      "-----------------------------------------------------------------------------------------------------\n",
      "TRAIN: [    2     3     4 ... 12633 12634 12635] TEST: [    0     1     7 ... 12615 12616 12620]\n",
      "-----------------------------------------------------------------------------------------------------\n",
      "TRAIN: [    0     1     3 ... 12632 12633 12634] TEST: [    2     5    10 ... 12627 12631 12635]\n",
      "-----------------------------------------------------------------------------------------------------\n"
     ]
    }
   ],
   "source": [
    "# Logistic Regression\n",
    "lr = LogisticRegression(**lr_best_params, class_weight=\"balanced\")\n",
    "skf3 = StratifiedKFold(n_splits=5, shuffle=True, random_state=15)\n",
    "\n",
    "for train_index, test_index in skf3.split(X, y):\n",
    "    print(\"TRAIN:\", train_index, \"TEST:\", test_index)\n",
    "    X_train, X_test = X.iloc[train_index], X.iloc[test_index]\n",
    "    y_train, y_test = y.iloc[train_index], y.iloc[test_index]\n",
    "\n",
    "    # Apply StandardScaler to numerical columns\n",
    "    X_train_scaled = X_train.copy()\n",
    "    X_test_scaled = X_test.copy()\n",
    "    \n",
    "    X_train_scaled[num_cols] = scaler.fit_transform(X_train[num_cols])\n",
    "    X_test_scaled[num_cols] = scaler.transform(X_test[num_cols])\n",
    "    \n",
    "    # Optionally, you can include GEN column after scaling\n",
    "    # Add scaled GEN column back to X_train_scaled and X_test_scaled\n",
    "    X_train_scaled['GEN'] = X_train['GEN']\n",
    "    X_test_scaled['GEN'] = X_test['GEN']\n",
    "    \n",
    "    # Train classifier\n",
    "    lr.fit(X_train_scaled, y_train)\n",
    "\n",
    "    lr_y_pred = lr.predict(X_test_scaled)\n",
    "    lr_y_score = lr.predict_proba(X_test_scaled)[:, 1]\n",
    "    \n",
    "    Accuracy.append(accuracy_score(y_test, lr_y_pred))\n",
    "    Precission.append(precision_score(y_test, lr_y_pred) )\n",
    "    Recall.append(recall_score(y_test, lr_y_pred))\n",
    "    F1_score.append(f1_score(y_test, lr_y_pred))\n",
    "    ROC_AUC.append(roc_auc_score(y_test, lr_y_score))\n",
    "    print(\"-----------------------------------------------------------------------------------------------------\")\n",
    "confussion_matrix_list.append(y_test)\n",
    "confussion_matrix_list.append(lr_y_pred)\n",
    "    "
   ]
  },
  {
   "cell_type": "code",
   "execution_count": 63,
   "id": "c1ff67bf-3b4d-4de3-b9fe-183c9898ba26",
   "metadata": {},
   "outputs": [],
   "source": [
    "metrics[\"Logistic Regression\"] = [\n",
    "    np.mean(Accuracy),\n",
    "    np.mean(Precission),\n",
    "    np.mean(Recall),\n",
    "    np.mean(F1_score),\n",
    "    np.mean(ROC_AUC)\n",
    "]"
   ]
  },
  {
   "cell_type": "code",
   "execution_count": 64,
   "id": "86ea3884-68ce-4404-b315-b45e45f8b36f",
   "metadata": {},
   "outputs": [
    {
     "name": "stdout",
     "output_type": "stream",
     "text": [
      "Accuracy      0.799594\n",
      "Precission    0.852617\n",
      "Recall        0.796982\n",
      "F1_score      0.818086\n",
      "ROC_AUC       0.851289\n",
      "Name: Logistic Regression, dtype: float64\n"
     ]
    }
   ],
   "source": [
    "print(metrics[\"Logistic Regression\"])"
   ]
  },
  {
   "cell_type": "markdown",
   "id": "525fa1ae-08ba-4cc2-a929-526f166ea3fb",
   "metadata": {
    "jp-MarkdownHeadingCollapsed": true
   },
   "source": [
    "## Metrics"
   ]
  },
  {
   "cell_type": "code",
   "execution_count": 65,
   "id": "543afdd5-46a0-47b0-8588-e7bc26c44d13",
   "metadata": {},
   "outputs": [
    {
     "name": "stdout",
     "output_type": "stream",
     "text": [
      "            Random Forest       SVM  Logistic Regression\n",
      "Accuracy         0.993273  0.907012             0.799594\n",
      "Precission       0.991547  0.913348             0.852617\n",
      "Recall           0.997549  0.939766             0.796982\n",
      "F1_score         0.994536  0.926223             0.818086\n",
      "ROC_AUC          0.999706  0.953693             0.851289\n"
     ]
    }
   ],
   "source": [
    "print(metrics)"
   ]
  },
  {
   "cell_type": "code",
   "execution_count": 66,
   "id": "4fbb63e8-5cfd-4f73-a594-5013ea01718c",
   "metadata": {},
   "outputs": [
    {
     "data": {
      "image/png": "[encoded data removed]",
      "text/plain": [
       "<Figure size 1000x600 with 1 Axes>"
      ]
     },
     "metadata": {},
     "output_type": "display_data"
    },
    {
     "data": {
      "text/plain": [
       "<Figure size 640x480 with 0 Axes>"
      ]
     },
     "metadata": {},
     "output_type": "display_data"
    }
   ],
   "source": [
    "\n",
    "metrics = metrics.transpose()\n",
    "\n",
    "# Plot the bar chart\n",
    "metrics.plot(kind='bar', figsize=(10, 6))\n",
    "plt.title('Model Performance Metrics')\n",
    "plt.xlabel('Metrics')\n",
    "plt.ylabel('Score')\n",
    "plt.legend(title='Models')\n",
    "plt.xticks(rotation=0)  # Rotate x-axis labels if needed\n",
    "plt.show()\n",
    "plt.savefig('performance_nonum.png')\n"
   ]
  },
  {
   "cell_type": "code",
   "execution_count": 67,
   "id": "3d753a3f-fcac-4626-882c-caef62ef161d",
   "metadata": {},
   "outputs": [
    {
     "data": {
      "text/plain": [
       "<Figure size 1000x600 with 0 Axes>"
      ]
     },
     "metadata": {},
     "output_type": "display_data"
    },
    {
     "data": {
      "image/png": "[encoded data removed]",
      "text/plain": [
       "<Figure size 1500x800 with 1 Axes>"
      ]
     },
     "metadata": {},
     "output_type": "display_data"
    },
    {
     "data": {
      "text/plain": [
       "<Figure size 640x480 with 0 Axes>"
      ]
     },
     "metadata": {},
     "output_type": "display_data"
    }
   ],
   "source": [
    "plt.figure(figsize=(10, 6))\n",
    "\n",
    "ax = metrics.plot(kind='bar', figsize=(15, 8))\n",
    "\n",
    "for i in ax.patches:\n",
    "   ax.annotate(f\"{i.get_height()*100:.1f}\", \n",
    "                (i.get_x() + i.get_width() / 2., i.get_height()),\n",
    "                ha='center', va='center',\n",
    "                xytext=(0, 9),\n",
    "                textcoords='offset points')\n",
    "\n",
    "plt.title('Model Performance Metrics')\n",
    "plt.ylabel('Score')\n",
    "plt.xticks(rotation=0)\n",
    "plt.show()\n",
    "plt.savefig('performance_num.png')"
   ]
  },
  {
   "cell_type": "markdown",
   "id": "0dbdf47a-b6ee-4a86-ab42-2b9e6c71a2fd",
   "metadata": {
    "jp-MarkdownHeadingCollapsed": true
   },
   "source": [
    "## Confusion Matrix "
   ]
  },
  {
   "cell_type": "code",
   "execution_count": 68,
   "id": "6e7aec94-606f-42f6-a967-5968fb5eca01",
   "metadata": {},
   "outputs": [
    {
     "data": {
      "text/plain": [
       "Text(0.5, 1.0, 'Confusion Matrix Random Forest')"
      ]
     },
     "execution_count": 68,
     "metadata": {},
     "output_type": "execute_result"
    },
    {
     "data": {
      "image/png": "[encoded data removed]",
      "text/plain": [
       "<Figure size 800x400 with 2 Axes>"
      ]
     },
     "metadata": {},
     "output_type": "display_data"
    }
   ],
   "source": [
    "fig, ax = plt.subplots(figsize=(8, 4))\n",
    "sns.heatmap(confusion_matrix(confussion_matrix_list[0], confussion_matrix_list[1]), \n",
    "            cmap=sns.diverging_palette(220, 10, as_cmap=True), fmt=\"d\", ax=ax, annot=True)\n",
    "plt.title(\"Confusion Matrix Random Forest\")"
   ]
  },
  {
   "cell_type": "code",
   "execution_count": 69,
   "id": "e06f6673-21ae-40da-b23d-c663cb868d91",
   "metadata": {},
   "outputs": [
    {
     "data": {
      "text/plain": [
       "Text(0.5, 1.0, 'Confusion Matrix SVM')"
      ]
     },
     "execution_count": 69,
     "metadata": {},
     "output_type": "execute_result"
    },
    {
     "data": {
      "image/png": "[encoded data removed]",
      "text/plain": [
       "<Figure size 800x400 with 2 Axes>"
      ]
     },
     "metadata": {},
     "output_type": "display_data"
    }
   ],
   "source": [
    "fig, ax = plt.subplots(figsize=(8, 4))\n",
    "sns.heatmap(confusion_matrix(confussion_matrix_list[2], confussion_matrix_list[3]), \n",
    "            cmap=sns.diverging_palette(220, 10, as_cmap=True), fmt=\"d\", ax=ax, annot=True)\n",
    "plt.title(\"Confusion Matrix SVM\")"
   ]
  },
  {
   "cell_type": "code",
   "execution_count": 70,
   "id": "8727de5a-975a-4596-9878-abd844d8ac94",
   "metadata": {},
   "outputs": [
    {
     "data": {
      "text/plain": [
       "Text(0.5, 1.0, 'Confusion MatrixLogistic Regression')"
      ]
     },
     "execution_count": 70,
     "metadata": {},
     "output_type": "execute_result"
    },
    {
     "data": {
      "image/png": "[encoded data removed]",
      "text/plain": [
       "<Figure size 800x400 with 2 Axes>"
      ]
     },
     "metadata": {},
     "output_type": "display_data"
    }
   ],
   "source": [
    "fig, ax = plt.subplots(figsize=(8, 4))\n",
    "sns.heatmap(confusion_matrix(confussion_matrix_list[4], confussion_matrix_list[5]), \n",
    "            cmap=sns.diverging_palette(220, 10, as_cmap=True), fmt=\"d\", ax=ax, annot=True)\n",
    "plt.title(\"Confusion MatrixLogistic Regression\")"
   ]
  },
  {
   "cell_type": "markdown",
   "id": "3b61d663-7d52-4e78-81bc-fd74bd768a67",
   "metadata": {
    "jp-MarkdownHeadingCollapsed": true
   },
   "source": [
    "## AUC_ROC"
   ]
  },
  {
   "cell_type": "code",
   "execution_count": 71,
   "id": "396dad51-4384-42b9-9a35-3028425c6978",
   "metadata": {},
   "outputs": [
    {
     "data": {
      "image/png": "[encoded data removed]",
      "text/plain": [
       "<Figure size 640x480 with 1 Axes>"
      ]
     },
     "metadata": {},
     "output_type": "display_data"
    }
   ],
   "source": [
    "from sklearn.metrics import RocCurveDisplay\n",
    "disp=RocCurveDisplay.from_estimator(svm, X_test_scaled, y_test)\n",
    "RocCurveDisplay.from_estimator(random_forest, X_test_scaled, y_test, ax = disp.ax_);\n",
    "RocCurveDisplay.from_estimator(lr, X_test_scaled, y_test, ax=disp.ax_);\n",
    "plt.plot([0, 1], [0, 1], linestyle='--', color='gray')\n",
    "plt.xlabel(\"False Positive Rate\")\n",
    "plt.ylabel(\"True Positive Rate\")\n",
    "plt.savefig('Auc_Roc.png')\n"
   ]
  },
  {
   "cell_type": "markdown",
   "id": "b592a5bc-1c2c-46ee-b455-4f55463f297a",
   "metadata": {},
   "source": [
    "## Model Saving"
   ]
  },
  {
   "cell_type": "code",
   "execution_count": 72,
   "id": "6ca616f4-89cf-47a2-b359-8e4497bfab70",
   "metadata": {},
   "outputs": [],
   "source": [
    "best_model = random_forest"
   ]
  },
  {
   "cell_type": "code",
   "execution_count": 73,
   "id": "96ef6b61-e9ac-4199-a187-728313b2e6eb",
   "metadata": {},
   "outputs": [
    {
     "name": "stdout",
     "output_type": "stream",
     "text": [
      "[1]\n"
     ]
    }
   ],
   "source": [
    "import joblib\n",
    "\n",
    "joblib.dump(best_model, 'best_model_rf.pkl')\n",
    "\n",
    "model = joblib.load('best_model_rf.pkl')\n",
    "result = model.predict(input_df)\n",
    "print(result)"
   ]
  },
  {
   "cell_type": "code",
   "execution_count": null,
   "id": "b02cd9ce-5246-4a2a-ad60-a3341007095d",
   "metadata": {},
   "outputs": [],
   "source": []
  },
  {
   "cell_type": "code",
   "execution_count": null,
   "id": "d46e9baa-de4b-4be5-97ea-0cc768b7c177",
   "metadata": {},
   "outputs": [],
   "source": []
  }
 ],
 "metadata": {
  "kernelspec": {
   "display_name": "Python 3 (ipykernel)",
   "language": "python",
   "name": "python3"
  },
  "language_info": {
   "codemirror_mode": {
    "name": "ipython",
    "version": 3
   },
   "file_extension": ".py",
   "mimetype": "text/x-python",
   "name": "python",
   "nbconvert_exporter": "python",
   "pygments_lexer": "ipython3",
   "version": "3.8.0"
  }
 },
 "nbformat": 4,
 "nbformat_minor": 5
}
